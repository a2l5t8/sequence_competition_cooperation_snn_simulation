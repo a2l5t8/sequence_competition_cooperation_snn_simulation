{
 "cells": [
  {
   "cell_type": "markdown",
   "metadata": {},
   "source": [
    "## Required additional feedforward weight to compensate for fewer neurons\n",
    "Comparable to linear rate model"
   ]
  },
  {
   "cell_type": "code",
   "execution_count": 1,
   "metadata": {},
   "outputs": [],
   "source": [
    "import numpy as np\n",
    "import matplotlib.pyplot as plt\n",
    "from matplotlib import cm\n",
    "import sim_wc\n",
    "from params_3a_requiredFFweight_competition import params\n",
    "import scipy.stats as stats\n",
    "from tqdm import tqdm\n",
    "import matplotlib.gridspec as gridspec\n",
    "import tools_wc\n",
    "import copy\n",
    "import matplotlib as mpl\n",
    "mpl.rc('text', usetex = True)\n",
    "mpl.rc('font', **{'family': 'serif', 'size': 20})\n",
    "mpl.rcParams.update({'font.size': 20})\n",
    "from matplotlib.colors import ListedColormap, LinearSegmentedColormap\n",
    "\n",
    "\n",
    "%load_ext autoreload\n",
    "%autoreload 2"
   ]
  },
  {
   "cell_type": "markdown",
   "metadata": {},
   "source": [
    "### Scan parameter range"
   ]
  },
  {
   "cell_type": "code",
   "execution_count": 2,
   "metadata": {},
   "outputs": [],
   "source": [
    "fname_res = 'data/3a_r_twoseqs.pckl'\n",
    "t = params['t']\n"
   ]
  },
  {
   "cell_type": "code",
   "execution_count": 3,
   "metadata": {},
   "outputs": [],
   "source": [
    "load_res = True\n",
    "\n",
    "if load_res:\n",
    "    r = tools_wc.load_pckl(fname_res)\n",
    "    \n",
    "else:\n",
    "\n",
    "    r = np.zeros([\n",
    "        len(params['range_nE1']),\n",
    "        len(params['range_pot_ff1']),\n",
    "        len(t),\n",
    "        len(np.concatenate(params['seqs']))*2,\n",
    "        ])\n",
    "\n",
    "    for i, nE_1 in enumerate(tqdm(params['range_nE1'])):\n",
    "        for j, pot_ff_1 in enumerate(params['range_pot_ff1']):\n",
    "            sim = sim_wc.Simulator(params)\n",
    "            nE = params['nE']\n",
    "            nI = params['nI']\n",
    "            sim.p['nE'][1] = nE_1\n",
    "            sim.p['nI'][1] = int(nE_1*0.25)\n",
    "            pot_ff = params['pot_ff']\n",
    "            sim.p['pot_ff'][1] = pot_ff_1\n",
    "            sim.set_interaction_matrix()\n",
    "            _, r_ij = sim.run()\n",
    "            r[i, j, :, :] = r_ij.T\n",
    "    tools_wc.save_pckl(r, fname_res)"
   ]
  },
  {
   "cell_type": "code",
   "execution_count": 4,
   "metadata": {},
   "outputs": [],
   "source": [
    "rE = r[:, :, :, ::2]\n",
    "\n",
    "crit = np.zeros([\n",
    "    len(params['range_nE1']),\n",
    "    len(params['range_pot_ff1']),\n",
    "    len(params['seqs'])\n",
    "], dtype=bool)\n",
    "cond = np.zeros([\n",
    "    len(params['range_nE1']),\n",
    "    len(params['range_pot_ff1']),\n",
    "    len(params['seqs']),\n",
    "    4], dtype=bool)\n",
    "mean_t_act = np.zeros([\n",
    "    len(params['range_nE1']),\n",
    "    len(params['range_pot_ff1']),\n",
    "    len(params['seqs'])])\n",
    "    \n",
    "\n",
    "dt = np.mean(np.unique(np.diff(params['t'])))\n",
    "\n",
    "for i, nE_i in enumerate(params['range_nE1']):\n",
    "    for j, _ in enumerate(params['range_pot_ff1']):\n",
    "        for m, seq_m in enumerate(params['seqs']):\n",
    "            rE_ijm = rE[i, j, :, :][:, seq_m]  \n",
    "            seq_m_pos = seq_m - seq_m[0]\n",
    "            (crit[i, j, m],\n",
    "             cond[i, j, m, 0],\n",
    "             cond[i, j, m, 1],\n",
    "             cond[i, j, m, 2],\n",
    "             cond[i, j, m, 3]) = tools_wc.peak_criterium(\n",
    "                rE_ijm, params['r_min'],\n",
    "                seq_m_pos, params['tol'],\n",
    "                return_conds=True)\n",
    "            mean_t_act[i, j, m] = tools_wc.mean_activation_time(\n",
    "                rE_ijm, params['r_min'], dt)"
   ]
  },
  {
   "cell_type": "markdown",
   "metadata": {},
   "source": [
    "### Create linear approximation"
   ]
  },
  {
   "cell_type": "code",
   "execution_count": 5,
   "metadata": {},
   "outputs": [],
   "source": [
    "try:\n",
    "    fun_lin = tools_wc.import_if_exists('lin_approx', 'minimal_p_11ff_2seqs')\n",
    "    p__11_ff_lin = []\n",
    "    for M__1_i in params['range_nE1']:\n",
    "        p__11_ff_i = fun_lin(\n",
    "            c=params['c'],\n",
    "            M__E0=params['nE'][0],\n",
    "            r__E0_i_minus_1=1.,\n",
    "            p_rc=params['p_rc'],\n",
    "            g__11_ff=params['gE']*params['pot_ff'][1],\n",
    "            M__E1=M__1_i,\n",
    "            g__01_ffi=params['gE'],\n",
    "            p_ffi=params['p_ffi'],\n",
    "            g_rc=params['gE'],\n",
    "        )\n",
    "        p__11_ff_lin.append(p__11_ff_i)\n",
    "\n",
    "except Exception as error:\n",
    "    # handle the exception\n",
    "    print(\"An exception occurred:\", error) # An exception occurred: division by zero\n",
    "    pass"
   ]
  },
  {
   "cell_type": "markdown",
   "metadata": {},
   "source": [
    "### Store results for 3b"
   ]
  },
  {
   "cell_type": "code",
   "execution_count": 6,
   "metadata": {},
   "outputs": [],
   "source": [
    "tools_wc.save_pckl(crit, 'data/3a_r_twoseqs_crit')\n",
    "tools_wc.save_pckl(\n",
    "    np.column_stack(\n",
    "        (params['range_nE1'], np.array(p__11_ff_lin))\n",
    "    ), 'data/3a_r_twoseqs_linapprox')"
   ]
  },
  {
   "cell_type": "markdown",
   "metadata": {},
   "source": [
    "### Plot results "
   ]
  },
  {
   "cell_type": "code",
   "execution_count": 7,
   "metadata": {},
   "outputs": [],
   "source": [
    "cmap = mpl.cm.get_cmap('Greys')\n",
    "\n",
    "cmaplist = [cmap(i) for i in range(cmap.N)]\n",
    "# create the new map\n",
    "cmap = mpl.colors.LinearSegmentedColormap.from_list(\n",
    "    'Custom cmap', cmaplist, cmap.N)\n",
    "# define the bins and normalize\n",
    "bounds = [0, 0.9, 1.1, 2., 3.]\n",
    "norm = mpl.colors.BoundaryNorm(bounds, cmap.N)"
   ]
  },
  {
   "cell_type": "code",
   "execution_count": 8,
   "metadata": {},
   "outputs": [
    {
     "data": {
      "image/png": "[encoded data removed]",
      "text/plain": [
       "<Figure size 432x288 with 2 Axes>"
      ]
     },
     "metadata": {
      "needs_background": "light"
     },
     "output_type": "display_data"
    }
   ],
   "source": [
    "piv = np.sum(crit, axis=2)\n",
    "f = 0.1\n",
    "piv = piv - f*crit[:, :, 0]\n",
    "piv = piv + f*crit[:, :, 1]\n",
    "\n",
    "fig, ax = plt.subplots(1, 2, squeeze=False, gridspec_kw={'width_ratios': [0.95, 0.05]}, figsize=(6,4))\n",
    "\n",
    "\n",
    "# adjust xticks to represent sum of nE and nI\n",
    "rng_nE1 = params['range_nE1'] \n",
    "xticks = rng_nE1\n",
    "\n",
    "#a[0,0].set_aspect('equal')\n",
    "heatmap = ax[0,0].pcolormesh(xticks, params['p_ff']*params['range_pot_ff1'], piv.T, cmap=cmap, norm=norm)\n",
    "\n",
    "ax[0,0].set_title('$s^1$ competing', fontsize=24)\n",
    "\n",
    "ax[0,0].set_xlabel('$M^{E,1}$')\n",
    "ax[0,0].set_ylabel('$p^{11}_{ff}$')\n",
    "\n",
    "y_range = params['p_ff']*params['range_pot_ff1']\n",
    "ax[0,0].set_ylim(y_range[0], y_range[-1])\n",
    "ax[0,0].set_xlim(params['range_nE1'][0], params['range_nE1'][-1])\n",
    "\n",
    "\n",
    "ax2 = ax[0, 1]\n",
    "\n",
    "cb = mpl.colorbar.ColorbarBase(\n",
    "    ax2, cmap=cmap, norm=norm,\n",
    "    #spacing='proportional',\n",
    "    ticks=[0.5, 1., 1.5],\n",
    "    boundaries=bounds[:-1], format='%2i')\n",
    "cb.ax.set_yticklabels(\n",
    "    ['no winner',\n",
    "     '$s^0$ wins',\n",
    "     '$s^1$ wins'])\n",
    "\n",
    "# insert linear approximation\n",
    "if p__11_ff_lin:\n",
    "    ax[0,0].plot(params['range_nE1'], p__11_ff_lin, c='red')\n",
    "\n",
    "fig.tight_layout()\n",
    "\n",
    "fig.savefig('figures/3a_FFweightScalesNonlinearly.svg')"
   ]
  },
  {
   "cell_type": "markdown",
   "metadata": {},
   "source": [
    "### Supplementary plots"
   ]
  },
  {
   "cell_type": "code",
   "execution_count": 9,
   "metadata": {},
   "outputs": [
    {
     "name": "stderr",
     "output_type": "stream",
     "text": [
      "/opt/conda/lib/python3.7/site-packages/ipykernel_launcher.py:13: UserWarning: No contour levels were found within the data range.\n",
      "  del sys.path[0]\n",
      "/opt/conda/lib/python3.7/site-packages/ipykernel_launcher.py:13: UserWarning: The following kwargs were not used by contour: 'linewidth'\n",
      "  del sys.path[0]\n"
     ]
    },
    {
     "data": {
      "image/png": "[encoded data removed]",
      "text/plain": [
       "<Figure size 432x288 with 2 Axes>"
      ]
     },
     "metadata": {
      "needs_background": "light"
     },
     "output_type": "display_data"
    }
   ],
   "source": [
    "fig, ax = plt.subplots(1, 2, squeeze=False, gridspec_kw={'width_ratios': [0.95, 0.05]}, figsize=(6,4))\n",
    "\n",
    "\n",
    "# adjust xticks to represent sum of nE and nI\n",
    "rng_nE1 = params['range_nE1'] \n",
    "xticks = rng_nE1 + rng_nE1*0.25\n",
    "\n",
    "#a[0,0].set_aspect('equal')\n",
    "heatmap = ax[0,0].pcolormesh(xticks, params['range_pot_ff1'], mean_t_act[:,:,1].T)\n",
    "contour = ax[0,0].contour(\n",
    "    xticks, params['range_pot_ff1'],\n",
    "    crit[:, :, 1].T, colors='red', \n",
    "    linewidth=0.1, levels=[False, True],)\n",
    "\n",
    "\n",
    "ax[0,0].set_xlabel('$M^{1}$')\n",
    "\n",
    "ax2 = ax[0, 1]\n",
    "\n",
    "yticks = ax[0,0].get_yticks()\n",
    "yticks *= params['p_ff']\n",
    "ax[0,0].set_yticklabels(np.round(yticks, 3))\n",
    "ax[0,0].set_ylabel(r'$p^{11}_{ff}$')\n",
    "\n",
    "cb = plt.colorbar(heatmap, cax=ax2)\n",
    "cb.ax.set_ylabel('mean activation time [a.u.]', rotation=90)\n",
    "\n",
    "fig.tight_layout()\n",
    "\n",
    "fig.savefig('figures/3a_FFweightScalesNonlinearly_suppl_meantact.svg')"
   ]
  },
  {
   "cell_type": "code",
   "execution_count": 10,
   "metadata": {},
   "outputs": [
    {
     "name": "stderr",
     "output_type": "stream",
     "text": [
      "/opt/conda/lib/python3.7/site-packages/ipykernel_launcher.py:21: UserWarning: No contour levels were found within the data range.\n",
      "/opt/conda/lib/python3.7/site-packages/ipykernel_launcher.py:21: UserWarning: The following kwargs were not used by contour: 'linewidth'\n"
     ]
    },
    {
     "data": {
      "image/png": "[encoded data removed]",
      "text/plain": [
       "<Figure size 864x288 with 3 Axes>"
      ]
     },
     "metadata": {
      "needs_background": "light"
     },
     "output_type": "display_data"
    }
   ],
   "source": [
    "piv = np.sum(crit, axis=2)\n",
    "f = 0.1\n",
    "piv = piv - f*crit[:, :, 0]\n",
    "piv = piv + f*crit[:, :, 1]\n",
    "\n",
    "fig, ax = plt.subplots(1, 3, squeeze=False, figsize=(12,4))\n",
    "\n",
    "\n",
    "# adjust xticks to represent sum of nE and nI\n",
    "rng_nE1 = params['range_nE1'] \n",
    "xticks = rng_nE1 + rng_nE1*0.25\n",
    "\n",
    "ls_cond = [0, 1, 2]\n",
    "ls_title = ['All activated', 'All informative', 'Always informative']\n",
    "\n",
    "for i in ls_cond:\n",
    "    heatmap = ax[0,i].pcolormesh(xticks, params['range_pot_ff1'], cond[:,:, 1, i].T, vmin=0, vmax=1, cmap='Greys')\n",
    "    contour = ax[0,i].contour(\n",
    "        xticks, params['range_pot_ff1'],\n",
    "        crit[:, :, 1].T, colors='red', \n",
    "        linewidth=0.1, levels=[False, True],)\n",
    "    ax[0, i].set_title(ls_title[i])\n",
    "\n",
    "#a[0,0].set_aspect('equal')\n",
    "#heatmap = ax[0,0].pcolormesh(xticks, params['range_pot_ff1'], piv.T, cmap=cmap, norm=norm)\n",
    "#ax[0,0].set_ylabel(r'n^{E,0}$')\n",
    "#ax[0,0].set_xlabel(r'n^{E,1}$')\n",
    "#ax[0,0].set_xticks([params['range_nE1'][0], params['range_nE1'][-1]])\n",
    "#ax[0,0].set_yticks([params['range_pot_ff1'][0], params['range_pot_ff1'][-1]])\n",
    "#ax[0,0].set_title('Competition scenarios', fontsize=24)\n",
    "\n",
    "ax[0,0].set_xlabel('$M^{1}$')\n",
    "\n",
    "ax2 = ax[0, 1]\n",
    "\n",
    "# adjust ticklabels to represent gE instead of potentiation factor\n",
    "yticks = ax[0,0].get_yticks()\n",
    "yticks *= params['p_ff']\n",
    "ax[0,0].set_yticklabels(np.round(yticks, 3))\n",
    "ax[0,0].set_ylabel(r'$p^{11}_{ff}$')\n",
    "\n",
    "\n",
    "fig.tight_layout()\n",
    "fig.savefig('figures/3a_FFweightScalesNonlinearly_suppl_cond.svg')"
   ]
  },
  {
   "cell_type": "code",
   "execution_count": null,
   "metadata": {},
   "outputs": [],
   "source": []
  }
 ],
 "metadata": {
  "kernelspec": {
   "display_name": "Python 3",
   "language": "python",
   "name": "python3"
  },
  "language_info": {
   "codemirror_mode": {
    "name": "ipython",
    "version": 3
   },
   "file_extension": ".py",
   "mimetype": "text/x-python",
   "name": "python",
   "nbconvert_exporter": "python",
   "pygments_lexer": "ipython3",
   "version": "3.7.8"
  }
 },
 "nbformat": 4,
 "nbformat_minor": 4
}
