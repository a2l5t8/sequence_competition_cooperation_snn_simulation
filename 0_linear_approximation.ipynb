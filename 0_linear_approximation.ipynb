{
 "cells": [
  {
   "cell_type": "markdown",
   "metadata": {},
   "source": [
    "# Linearized approximation of assembly sequence progression"
   ]
  },
  {
   "cell_type": "markdown",
   "metadata": {
    "slideshow": {
     "slide_type": "subslide"
    }
   },
   "source": [
    "We approximate assembly sequence progression in a linear dynamical system, as in Chenkov et al. (2017).\n",
    "\n",
    "To study both sequence competition and cooperation, we define three sequences: $s^0, s^1, s^2$.\n",
    "Each assembly in position $i$ of sequence $s^j$ is described by the rate of its excitatory $r_i^{E,j}$ and inhibitory $r_i^{I,j}$ population.\n",
    "We combine population rates in a single vector $r_i = \\left(r^{E,0}_i, r^{I,0}_i, r^{E,1}_i, r^{I,1}_i, r^{E,2}_i, r^{I,2}_i  \\right)^T$ and write the full system as\n",
    "\\begin{equation}\n",
    "    \\label{eq:full_sys}\n",
    "    \\tau \\frac{dr_i}{dt} = (-\\mathbb{1} + M_{rc})r_i+M_{ff} r_{i-1}\n",
    "\\end{equation}\n",
    "\n",
    "with the unity matrix $-\\mathbb{1}$ representing self-dampening, $M_{rc}$ recurrent interactions and $M_{ff}$ feed-forward projections from preceding assemblies to the same or other sequences.\n",
    "In each assembly excitatory and inhibitory populations are recurrently interacting.\n",
    "Excitatory recurrent projections between assemblies of sequence $s^j$ are summarized by $w^{j}_{rc}$, representing the number of participating neurons, connection probabilities and connection weights.\n",
    "Recurrent inhibitory projections, $-k w^{j}_{rc}$, are scaled by factor $k$, the relative strength of inhibition, summarizing both differences in inhibitory populations sizes and synaptic weights.\n",
    "Thus all recurrent interactions are represented by:\n",
    "\\begin{equation}\n",
    "        M_{rc} = \\left(\\begin{matrix}w^{0}_{rc} - 1 & - k w^{0}_{rc} & 0 & 0 & 0 & 0\\\\w^{0}_{rc} & - k w^{0}_{rc} - 1 & 0 & 0 & 0 & 0\\\\0 & 0 & w^{1}_{rc} - 1 & - k w^{1}_{rc} & 0 & 0\\\\0 & 0 & w^{1}_{rc} & - k w^{1}_{rc} - 1 & 0 & 0\\\\0 & 0 & 0 & 0 & w^{2}_{rc} - 1 & - k w^{2}_{rc}\\\\0 & 0 & 0 & 0 & w^{2}_{rc} & - k w^{2}_{rc} - 1\\end{matrix}\\right)\\\\\n",
    "\\end{equation}\n",
    "\n",
    "To simplify the mathematical treatment, we approximate interactions of assemblies within and between sequences only via excitatory feed-forward projections to subsequently active assemblies.\n",
    "As such, feed forward projections from sequence $s^j$ to $s^m$ originate from excitatory populations and target either the excitatory or the inhibitory population with strength $w^{jm}_{ff}$ and $w^{jm}_{ffi}$, respectively.\n",
    "\\begin{equation}\n",
    "        M_{ff} = \\left(\\begin{matrix}w^{00}_{ff} & 0 & w^{10}_{ff} & 0 & w^{20}_{ff} & 0\\\\0 & 0 & w^{10}_{ffi} & 0 & w^{20}_{ffi} & 0\\\\w^{01}_{ff} & 0 & w^{11}_{ff} & 0 & w^{21}_{ff} & 0\\\\w^{01}_{ffi} & 0 & 0 & 0 & w^{21}_{ffi} & 0\\\\w^{02}_{ff} & 0 & w^{12}_{ff} & 0 & w^{22}_{ff} & 0\\\\w^{02}_{ffi} & 0 & w^{12}_{ffi} & 0 & 0 & 0\\end{matrix}\\right)\n",
    "\\end{equation}\n",
    "\n",
    "Under the assumption that the activity in the previous assembly persists much longer than the population time constant $\\tau$, we can consider the steady state $\\tau \\frac{dr}{dt} = 0$ as a sufficient approximation.\n",
    "With this, we can further simplify the system to:\n",
    "\n",
    "\\begin{equation}\n",
    "    \\begin{split}\n",
    "    \\vec{0} &= (-\\mathbb{1} + M_{rc}) r_i+M_{ff} r_{i-1} \\\\\n",
    "    (\\mathbb{1} - M_{rc}) r_i &= M_{ff} r_{i-1} \\\\\n",
    "    r_i &= (\\mathbb{1} - M_{rc})^{-1} M_{ff} r_{i-1} \n",
    "    \\end{split}\n",
    "\\end{equation}\n",
    "\n",
    "Because inhibitory populations are assumed to have only recurrent projections, we can insert the expression for each inhibitory population $r^{I,j}_i$ into its respective $r^{E,j}_i$ and reduce the system of equations to:\n",
    "\n",
    "\\begin{equation}\n",
    "\\label{eq:onlyexc}\n",
    "r^{E}_i\n",
    " = \\kappa     \n",
    " r^{E}_{i-1}\n",
    "\\end{equation}\n",
    "\n",
    "with $r^{E}_i = \\left(r^{E,0}_i, r^{E,1}_i, r^{E,2}_i\\right)^T$ and\n",
    "$$\n",
    "\\kappa=\n",
    "\\left(\\begin{matrix}\\frac{w^{00}_{ff} \\left(k w^{0}_{rc} + 1\\right)}{k w^{0}_{rc} - w^{0}_{rc} + 1} & \\frac{- k w^{0}_{rc} w^{10}_{ffi} + k w^{0}_{rc} w^{10}_{ff} + w^{10}_{ff}}{k w^{0}_{rc} - w^{0}_{rc} + 1} & \\frac{- k w^{0}_{rc} w^{20}_{ffi} + k w^{0}_{rc} w^{20}_{ff} + w^{20}_{ff}}{k w^{0}_{rc} - w^{0}_{rc} + 1}\\\\\\frac{- k w^{01}_{ffi} w^{1}_{rc} + k w^{01}_{ff} w^{1}_{rc} + w^{01}_{ff}}{k w^{1}_{rc} - w^{1}_{rc} + 1} & \\frac{w^{11}_{ff} \\left(k w^{1}_{rc} + 1\\right)}{k w^{1}_{rc} - w^{1}_{rc} + 1} & \\frac{- k w^{1}_{rc} w^{21}_{ffi} + k w^{1}_{rc} w^{21}_{ff} + w^{21}_{ff}}{k w^{1}_{rc} - w^{1}_{rc} + 1}\\\\\\frac{- k w^{02}_{ffi} w^{2}_{rc} + k w^{02}_{ff} w^{2}_{rc} + w^{02}_{ff}}{k w^{2}_{rc} - w^{2}_{rc} + 1} & \\frac{- k w^{12}_{ffi} w^{2}_{rc} + k w^{12}_{ff} w^{2}_{rc} + w^{12}_{ff}}{k w^{2}_{rc} - w^{2}_{rc} + 1} & \\frac{w^{22}_{ff} \\left(k w^{2}_{rc} + 1\\right)}{k w^{2}_{rc} - w^{2}_{rc} + 1}\\end{matrix}\\right)\n",
    "$$\n",
    "\n",
    "To connect parameters of the population based model to neurons, connection probabilities and synaptic strengths, we proceed as in the non-linear rate model and set recurrent and feed-forward weights to\n",
    "\\begin{equation}\n",
    "\\begin{split}\n",
    " w^{j}_{rc} &= c M^{E,j} p_{rc} g_{rc}\\\\\n",
    " w_{ff}^{jm} &= c M^{E,j} p_{ff} g^{jm}_{ff}\\\\\n",
    " w_{ffi}^{jm} &= c M^{E,j} p_{ffi} g^{jm}_{ffi}\\\\\n",
    "\\end{split}\n",
    "\\label{eq:weighttovariables}\n",
    "\\end{equation}\n",
    "\n",
    "With $c$ a scaling parameter related to the slope of neurons' input-output transfer fucntion (see Chenkov et al. 2017), $M^{j}$ the number of neurons in each excitatory assembly of sequence $s^j$, $p_{rc}$ and $g_{rc}$, $p_{ff}$ and $g^{jm}_{ff}$, $p_{ffi}$ and $g^{jm}_{ffi}$, the connection probabilities and synaptic weights for recurrent, feed-forward excitation and feed-forward inhibition, respectively.\n",
    "Further, we assume that the network operates in an approximately balanced state and set $k = 1$."
   ]
  },
  {
   "cell_type": "markdown",
   "metadata": {},
   "source": [
    "## Deriving the equations"
   ]
  },
  {
   "cell_type": "code",
   "execution_count": 1,
   "metadata": {},
   "outputs": [],
   "source": [
    "from sympy import symbols, Matrix, solve, Eq, lambdify, latex\n",
    "from lin_approx import save_function, create_function\n",
    "import numpy as np\n",
    "%load_ext autoreload\n",
    "%autoreload 2"
   ]
  },
  {
   "cell_type": "code",
   "execution_count": 2,
   "metadata": {},
   "outputs": [],
   "source": [
    "# Define symbols\n",
    "rE0i, rE1i, rE2i = symbols('r^{E\\,0}_i r^{E\\,1}_i r^{E\\,2}_i')\n",
    "rE0im1, rE1im1, rE2im1 = symbols('r^{E\\,0}_{i-1} r^{E\\,1}_{i-1} r^{E\\,2}_{i-1}')\n",
    "rEi = Matrix([rE0i, rE1i, rE2i])\n",
    "rEim1 = Matrix([rE0im1, rE1im1, rE2im1])\n",
    "c, k = symbols('c k')\n",
    "\n",
    "# define connection probabilities\n",
    "p_rc, p_ffi = symbols('p_rc p_ffi')\n",
    "p_jjff = {(j): symbols(f'p^{{{j}{j}}}_{{ff}}') for j in range(3)}\n",
    "\n",
    "# Define synaptic weights\n",
    "g_rc = symbols('g_rc')\n",
    "g_jmff = {(j, m): symbols(f'g^{{{j}{m}}}_{{ff}}') for j in range(3) for m in range(3)}\n",
    "g_jmffi = {(j, m): symbols(f'g^{{{j}{m}}}_{{ffi}}') for j in range(3) for m in range(3)}\n",
    "\n",
    "# Define assembly sizes\n",
    "M = {j: symbols(f'M^{{E\\,{j}}}') for j in range(3)}\n",
    "\n",
    "# Define weights\n",
    "bool_w_explicit = True\n",
    "if bool_w_explicit:\n",
    "    w_rc = {j: c * M[j] * p_rc * g_rc for j in range(3)}\n",
    "    w_ff = {(j, m): c * M[j] * p_jjff[j] * g_jmff[j, m] for j in range(3) for m in range(3)}\n",
    "    w_ffi = {(j, m): c * M[j] * p_ffi * g_jmffi[j, m] for j in range(3) for m in range(3)}    \n",
    "else:\n",
    "    w_rc = {j: symbols(f'w^{j}_{{rc}}') for j in range(3)}\n",
    "    w_ff = {(j, m): symbols(f'w^{{{j}{m}}}_{{ff}}') for j in range(3) for m in range(3)}\n",
    "    w_ffi = {(j, m): symbols(f'w^{{{j}{m}}}_{{ffi}}') for j in range(3) for m in range(3)}    \n",
    "\n",
    "# Define kappa matrix\n",
    "kappa = Matrix([\n",
    "    [w_ff[(0,0)] * (k * w_rc[0] + 1) / (k * w_rc[0] - w_rc[0] + 1), \n",
    "     (-k * w_rc[0] * w_ffi[(1,0)] + k * w_rc[0] * w_ff[(1,0)] + w_ff[(1,0)]) / (k * w_rc[0] - w_rc[0] + 1), \n",
    "     (-k * w_rc[0] * w_ffi[(2,0)] + k * w_rc[0] * w_ff[(2,0)] + w_ff[(2,0)]) / (k * w_rc[0] - w_rc[0] + 1)],\n",
    "    \n",
    "    [(-k * w_ffi[(0,1)] * w_rc[1] + k * w_ff[(0,1)] * w_rc[1] + w_ff[(0,1)]) / (k * w_rc[1] - w_rc[1] + 1), \n",
    "     w_ff[(1,1)] * (k * w_rc[1] + 1) / (k * w_rc[1] - w_rc[1] + 1), \n",
    "     (-k * w_rc[1] * w_ffi[(2,1)] + k * w_rc[1] * w_ff[(2,1)] + w_ff[(2,1)]) / (k * w_rc[1] - w_rc[1] + 1)],\n",
    "    \n",
    "    [(-k * w_ffi[(0,2)] * w_rc[2] + k * w_ff[(0,2)] * w_rc[2] + w_ff[(0,2)]) / (k * w_rc[2] - w_rc[2] + 1), \n",
    "     (-k * w_ffi[(1,2)] * w_rc[2] + k * w_ff[(1,2)] * w_rc[2] + w_ff[(1,2)]) / (k * w_rc[2] - w_rc[2] + 1), \n",
    "     w_ff[(2,2)] * (k * w_rc[2] + 1) / (k * w_rc[2] - w_rc[2] + 1)]\n",
    "])"
   ]
  },
  {
   "cell_type": "markdown",
   "metadata": {},
   "source": [
    "### Single sequence case\n",
    "No feedback on $s^1$"
   ]
  },
  {
   "cell_type": "code",
   "execution_count": 3,
   "metadata": {},
   "outputs": [],
   "source": [
    "kappa_zeroM0M2 = kappa.subs({M[0]: 0, M[2]: 0, k:1})"
   ]
  },
  {
   "cell_type": "code",
   "execution_count": 4,
   "metadata": {},
   "outputs": [
    {
     "data": {
      "text/latex": [
       "$\\displaystyle \\left[\\begin{matrix}0 & M^{E,1} c g^{10}_{ff} p^{11}_{ff} & 0\\\\0 & M^{E,1} c g^{11}_{ff} p^{11}_{ff} \\left(M^{E,1} c g_{rc} p_{rc} + 1\\right) & 0\\\\0 & M^{E,1} c g^{12}_{ff} p^{11}_{ff} & 0\\end{matrix}\\right]$"
      ],
      "text/plain": [
       "Matrix([\n",
       "[0,                           M^{E,1}*c*g^{10}_{ff}*p^{11}_{ff}, 0],\n",
       "[0, M^{E,1}*c*g^{11}_{ff}*p^{11}_{ff}*(M^{E,1}*c*g_rc*p_rc + 1), 0],\n",
       "[0,                           M^{E,1}*c*g^{12}_{ff}*p^{11}_{ff}, 0]])"
      ]
     },
     "execution_count": 4,
     "metadata": {},
     "output_type": "execute_result"
    }
   ],
   "source": [
    "kappa_zeroM0M2"
   ]
  },
  {
   "cell_type": "code",
   "execution_count": 5,
   "metadata": {},
   "outputs": [
    {
     "name": "stdout",
     "output_type": "stream",
     "text": [
      "M^{E,1} c g^{11}_{ff} p^{11}_{ff} \\left(M^{E,1} c g_{rc} p_{rc} + 1\\right)\n"
     ]
    }
   ],
   "source": [
    "print(latex(kappa_zeroM0M2[1,1]))"
   ]
  },
  {
   "cell_type": "markdown",
   "metadata": {},
   "source": [
    "### Required recurrent interactions for successful progression of a single sequence\n",
    "We solve for $p_{rc}$ to determine the minimal required recurrent connection probability for successful progression of $s^1$."
   ]
  },
  {
   "cell_type": "code",
   "execution_count": 6,
   "metadata": {},
   "outputs": [
    {
     "data": {
      "text/latex": [
       "$\\displaystyle p_{rc} = \\frac{- M^{E,1} c g^{11}_{ff} p^{11}_{ff} + 1}{\\left(M^{E,1}\\right)^{2} c^{2} g^{11}_{ff} g_{rc} p^{11}_{ff}}$"
      ],
      "text/plain": [
       "Eq(p_rc, (-M^{E,1}*c*g^{11}_{ff}*p^{11}_{ff} + 1)/(M^{E,1}**2*c**2*g^{11}_{ff}*g_rc*p^{11}_{ff}))"
      ]
     },
     "execution_count": 6,
     "metadata": {},
     "output_type": "execute_result"
    }
   ],
   "source": [
    "eq = kappa_zeroM0M2[1,1]-1\n",
    "minimal_p_rc =solve(eq, p_rc)[0]\n",
    "Eq(p_rc, minimal_p_rc)"
   ]
  },
  {
   "cell_type": "code",
   "execution_count": 7,
   "metadata": {},
   "outputs": [
    {
     "name": "stdout",
     "output_type": "stream",
     "text": [
      "p_{rc} = \\frac{- M^{E,1} c g^{11}_{ff} p^{11}_{ff} + 1}{\\left(M^{E,1}\\right)^{2} c^{2} g^{11}_{ff} g_{rc} p^{11}_{ff}}\n"
     ]
    }
   ],
   "source": [
    "print(latex(Eq(p_rc, minimal_p_rc)))"
   ]
  },
  {
   "cell_type": "code",
   "execution_count": 8,
   "metadata": {},
   "outputs": [
    {
     "name": "stdout",
     "output_type": "stream",
     "text": [
      "Function minimal_p_rc already exists in the file. The function was not saved.\n"
     ]
    }
   ],
   "source": [
    "minimal_p_rc_func = create_function(minimal_p_rc)\n",
    "save_function(\n",
    "    minimal_p_rc_func,\n",
    "    func_name='minimal_p_rc',\n",
    "    filename='lin_approx',\n",
    "    docstring=minimal_p_rc_func.__doc__)"
   ]
  },
  {
   "cell_type": "markdown",
   "metadata": {},
   "source": [
    "### Determining scaling factor $c$\n",
    "To determine $c$, which is related to the slope of the neurons’ input-output transfer function (see Chenkov et al 2017), we solve the single sequence equation and calculate $c$ with the parameters of example sequence $s^2$ from the non-linear rate model."
   ]
  },
  {
   "cell_type": "code",
   "execution_count": 9,
   "metadata": {},
   "outputs": [
    {
     "data": {
      "text/latex": [
       "$\\displaystyle c = \\frac{- g^{11}_{ff} p^{11}_{ff} - \\sqrt{g^{11}_{ff} p^{11}_{ff} \\left(g^{11}_{ff} p^{11}_{ff} + 4 g_{rc} p_{rc}\\right)}}{2 M^{E,1} g^{11}_{ff} g_{rc} p^{11}_{ff} p_{rc}}$"
      ],
      "text/plain": [
       "Eq(c, (-g^{11}_{ff}*p^{11}_{ff} - sqrt(g^{11}_{ff}*p^{11}_{ff}*(g^{11}_{ff}*p^{11}_{ff} + 4*g_rc*p_rc)))/(2*M^{E,1}*g^{11}_{ff}*g_rc*p^{11}_{ff}*p_rc))"
      ]
     },
     "execution_count": 9,
     "metadata": {},
     "output_type": "execute_result"
    }
   ],
   "source": [
    "eq = kappa_zeroM0M2[1,1]-1\n",
    "minimal_c =solve(eq, c)[0]\n",
    "Eq(c, minimal_c)"
   ]
  },
  {
   "cell_type": "code",
   "execution_count": 10,
   "metadata": {},
   "outputs": [
    {
     "name": "stdout",
     "output_type": "stream",
     "text": [
      "c = \\frac{- g^{11}_{ff} p^{11}_{ff} - \\sqrt{g^{11}_{ff} p^{11}_{ff} \\left(g^{11}_{ff} p^{11}_{ff} + 4 g_{rc} p_{rc}\\right)}}{2 M^{E,1} g^{11}_{ff} g_{rc} p^{11}_{ff} p_{rc}}\n"
     ]
    }
   ],
   "source": [
    "print(latex(Eq(c, minimal_c)))"
   ]
  },
  {
   "cell_type": "code",
   "execution_count": 11,
   "metadata": {},
   "outputs": [],
   "source": [
    "minimal_c = create_function(minimal_c)"
   ]
  },
  {
   "cell_type": "code",
   "execution_count": 12,
   "metadata": {},
   "outputs": [],
   "source": [
    "params_s2 = {\n",
    "    'nE': 800,\n",
    "    'gE': 0.2,\n",
    "    'pot_ff': 2.,\n",
    "    'p_rc': 0.035,\n",
    "    'p_ff': 0.01\n",
    "}\n"
   ]
  },
  {
   "cell_type": "code",
   "execution_count": 13,
   "metadata": {},
   "outputs": [],
   "source": [
    "estimated_c = minimal_c(\n",
    "    g__11_ff=params_s2['gE']*params_s2['pot_ff'],\n",
    "    p_rc=params_s2['p_rc'],\n",
    "    p__11_ff=params_s2['p_ff'],\n",
    "    M__E1=params_s2['nE'],\n",
    "    g_rc=params_s2['gE'],\n",
    ")\n",
    "estimated_c = np.round(estimated_c, 3)"
   ]
  },
  {
   "cell_type": "code",
   "execution_count": 14,
   "metadata": {},
   "outputs": [
    {
     "name": "stdout",
     "output_type": "stream",
     "text": [
      "-0.342\n"
     ]
    }
   ],
   "source": [
    "print(estimated_c)"
   ]
  },
  {
   "cell_type": "markdown",
   "metadata": {},
   "source": [
    "### Influence of synaptic weight on competing sequences\n",
    "We investigate how assembly size affects the minimal feed-forward weight required for successful propagation.\n",
    "We can set a condition for successful prolonged propagation with $\\kappa \\geq 1$ (Chenkov et al. 2017).\n",
    "We consider two different scenarios: Sequence $s^1$ in isolation and in competition with a strong sequence $s^0$.\n",
    "In the first scenario, we silence $s^0$ and $s^2$."
   ]
  },
  {
   "cell_type": "code",
   "execution_count": 15,
   "metadata": {},
   "outputs": [],
   "source": [
    "kappa_zeroM2 = kappa.subs({\n",
    "    M[2]: 0, # only two sequences, M2 is not required\n",
    "    k:1,  # balanced condition\n",
    "    g_jmff[(0, 1)]:0}, # no positive interactions, only competition\n",
    ")"
   ]
  },
  {
   "cell_type": "code",
   "execution_count": 16,
   "metadata": {},
   "outputs": [],
   "source": [
    "eq = Eq(rE1i, kappa_zeroM2[1, 0]*rE1im1 + kappa_zeroM2[1, 1]*rE1im1)"
   ]
  },
  {
   "cell_type": "code",
   "execution_count": 17,
   "metadata": {},
   "outputs": [
    {
     "data": {
      "text/latex": [
       "$\\displaystyle r^{E,1}_i = - M^{E,0} M^{E,1} c^{2} g^{01}_{ffi} g_{rc} p_{ffi} p_{rc} r^{E,1}_{i-1} + M^{E,1} c g^{11}_{ff} p^{11}_{ff} r^{E,1}_{i-1} \\left(M^{E,1} c g_{rc} p_{rc} + 1\\right)$"
      ],
      "text/plain": [
       "Eq(r^{E,1}_i, -M^{E,0}*M^{E,1}*c**2*g^{01}_{ffi}*g_rc*p_ffi*p_rc*r^{E,1}_{i-1} + M^{E,1}*c*g^{11}_{ff}*p^{11}_{ff}*r^{E,1}_{i-1}*(M^{E,1}*c*g_rc*p_rc + 1))"
      ]
     },
     "execution_count": 17,
     "metadata": {},
     "output_type": "execute_result"
    }
   ],
   "source": [
    "eq"
   ]
  },
  {
   "cell_type": "code",
   "execution_count": 18,
   "metadata": {},
   "outputs": [
    {
     "data": {
      "text/latex": [
       "$\\displaystyle p^{11}_{ff} = \\frac{M^{E,0} M^{E,1} c^{2} g^{01}_{ffi} g_{rc} p_{ffi} p_{rc} r^{E,0}_{i-1} + 1}{M^{E,1} c g^{11}_{ff} \\left(M^{E,1} c g_{rc} p_{rc} + 1\\right)}$"
      ],
      "text/plain": [
       "Eq(p^{11}_{ff}, (M^{E,0}*M^{E,1}*c**2*g^{01}_{ffi}*g_rc*p_ffi*p_rc*r^{E,0}_{i-1} + 1)/(M^{E,1}*c*g^{11}_{ff}*(M^{E,1}*c*g_rc*p_rc + 1)))"
      ]
     },
     "execution_count": 18,
     "metadata": {},
     "output_type": "execute_result"
    }
   ],
   "source": [
    "eq = kappa_zeroM2[1,0]*rE0im1+kappa_zeroM2[1,1]-1\n",
    "minimal_p_11ff_2seqs = solve(eq, p_jjff[1])[0]\n",
    "Eq(p_jjff[1], minimal_p_11ff_2seqs)"
   ]
  },
  {
   "cell_type": "code",
   "execution_count": 19,
   "metadata": {},
   "outputs": [
    {
     "name": "stdout",
     "output_type": "stream",
     "text": [
      "p^{11}_{ff} = \\frac{M^{E,0} M^{E,1} c^{2} g^{01}_{ffi} g_{rc} p_{ffi} p_{rc} r^{E,0}_{i-1} + 1}{M^{E,1} c g^{11}_{ff} \\left(M^{E,1} c g_{rc} p_{rc} + 1\\right)}\n"
     ]
    }
   ],
   "source": [
    "print(latex(Eq(p_jjff[1], minimal_p_11ff_2seqs)))"
   ]
  },
  {
   "cell_type": "code",
   "execution_count": 20,
   "metadata": {},
   "outputs": [
    {
     "name": "stdout",
     "output_type": "stream",
     "text": [
      "Function minimal_p_11ff_2seqs already exists in the file. The function was not saved.\n"
     ]
    }
   ],
   "source": [
    "minimal_p_11ff_2seqs_func = create_function(minimal_p_11ff_2seqs)\n",
    "save_function(\n",
    "    minimal_p_11ff_2seqs_func,\n",
    "    func_name='minimal_p_11ff_2seqs',\n",
    "    filename='lin_approx',\n",
    "    docstring=minimal_p_11ff_2seqs_func.__doc__)"
   ]
  },
  {
   "cell_type": "markdown",
   "metadata": {},
   "source": [
    "### Further derivations"
   ]
  },
  {
   "cell_type": "markdown",
   "metadata": {},
   "source": [
    "\n",
    "In the following, we investigate the behavior of the system in dependence of three selected parameters: Assembly size $M^j$, feed-forward excitation between assemblies of the same sequence, $g^{jj}_{ff}$, as well as feed-forward excitation between assemblies of different sequences,  $g^{jm}_{ff}$.\n",
    "Because synapse strengths and connection probabilities are interchangeable, similar results arise by changing feed-forward connection probabilities.\n",
    "\n",
    "We investigate how assembly size affects the minimal feed-forward weight required for successful propagation.\n",
    "Based on equation \\ref{eq:onlyexc}, we can set a condition for successful prolonged propagation with $\\kappa \\geq 1$ \\citep{chenkov2017memory}.\n",
    "We consider two different scenarios: Sequence $s^1$ in isolation and in competition with a strong sequence $s^0$.\n",
    "In the first scenario, we silence $s^0$ and $s^2$.\n",
    "Thus, the minimal required feed-forward weight can be described by:\n",
    "\\begin{equation}\n",
    "    g^{11}_{ff}\n",
    "      = \\frac{1}{M^{1} c p_{ff} \\left(M^{1} c g_{rc} p_{rc} + 1\\right)}\n",
    "\\end{equation}\n",
    "\n",
    "As evident from the equation, the required feed-forward weight scales with assembly size in a non-linear fashion (Figure \\ref{fig:SeqComp_requiredFF_compOnly}).\n",
    "In consequence, the required strengths of synaptic weights is very small for large assemblies, but extremely big for small assemblies.\n",
    "In the latter case, synaptic potentiation alone may not be able to ensure successful sequence propagation because of physiological limits.\n",
    "\n",
    "The difficult situation for sequences with small assemblies is further aggravated in the presence of a strong competing sequence.\n",
    "With $r_i^{E0} > 0$ we solve for $g^{11}_{ff}$ and obtain:\n",
    "\n",
    "\\begin{equation}\n",
    "    g^{11}_{ff} = \\frac{\n",
    "        M^{0} r^{E0}_i g^{01}_{ff} \\left(\n",
    "            M^{1}  g_{rc} p_{ffi} p_{rc} -\n",
    "            M^{1}  g_{rc} p_{ff} p_{rc} -\n",
    "            p_{ff}\\right)\n",
    "    }\n",
    "    {\n",
    "       M^{1} p_{ff} \\left(M^{1} c g_{rc} p_{rc} + 1\\right)\n",
    "     } \\\\ + \n",
    "     \\frac{\n",
    "        1\n",
    "    }\n",
    "    {\n",
    "       M^{1} c p_{ff} \\left(M^{1} c g_{rc} p_{rc} + 1\\right)\n",
    "     }\n",
    "\\end{equation}\n",
    "\n",
    "\n",
    "In this case, the minimal required synaptic strength is further increased by a summation term that scales linearly with the rate and assembly size of the competing sequence, $M^0 r_i^{E0}$.\n",
    "We exemplify this effect by setting $M^0 = 1000$ and $r_i^{E0} = 50$ Hz for all $i$ (Figure \\ref{fig:SeqComp_requiredFF_compOnly}).\n",
    "We conclude that competition with another sequence additionally increases the required minimal synaptic weight, making it even more difficult for sequences with small assemblies to successfully propagate.\n",
    "\n",
    "To study both competition and interaction in combination, we consider the full system with all three sequences.\n",
    "We assume that during encoding, $s^1$ and $s^2$, but not $s^0$, have been co-activated, allowing them to develop positive interactions via excitatory Hebbian plasticity.\n",
    "As before, all assemblies send inhibition to each other, unless specifically potentiated as part of the sequence formation process.\n",
    " \n",
    "To explore the effect of these positive interactions between sequences, we define a competition scenario in which both $s^1$ and $s^2$ are considered \\textit{weak}, while $s^0$ is \\textit{strong}.\n",
    "Assembly sizes are set to $M^{0}= 1500$, $M^{1}=900$, $M^{2}=900$ and excitatory feed-forward weights between $s^1$ and $s^2$ are systematically varied.\n",
    "We illustrate that mutual excitatory interactions allow \\textit{weak} sequences to win over a \\textit{strong} sequence (Figure \\ref{fig:Interaction}).\n",
    "However, it does not help to increase excitation from one to another sequence only.\n",
    "This can be intuitively understood by considering the inhibitory baseline condition.\n",
    "Exciting a sequence that sends inhibition back will make sequence progression more difficult.\n",
    "\n",
    "Lastly, we show that assemblies may use another sequence to enable sequential reactivation, while not being sequentially connected themselves.\n",
    "We silence $s^0$, keep rates and sizes of assemblies in $s^1$ fixed, and solve for $g^{22}_{ff}$ under the constraint that $r^2_{i} \\geq r^2_{i-1}$.\n",
    "By choosing different values for the mutual excitatory interactions $g^{12}_{ff} = g^{21}_{ff}$, it becomes clear that for large enough assemblies the required feed-forward weight approaches zero (Fig. \\ref{fig:reqff_interact}).\n",
    "Thus, elements of $s^2$ reactivate sequentially, even without any sequential structure in their feed-forward projections.\n",
    "Interestingly, as follows from the equations, the piggy-backing mechanism does not work for very small assemblies as feed-forward weights still grow reciprocally."
   ]
  },
  {
   "cell_type": "code",
   "execution_count": null,
   "metadata": {},
   "outputs": [],
   "source": []
  }
 ],
 "metadata": {
  "kernelspec": {
   "display_name": "Python 3 (ipykernel)",
   "language": "python",
   "name": "python3"
  },
  "language_info": {
   "codemirror_mode": {
    "name": "ipython",
    "version": 3
   },
   "file_extension": ".py",
   "mimetype": "text/x-python",
   "name": "python",
   "nbconvert_exporter": "python",
   "pygments_lexer": "ipython3",
   "version": "3.10.5"
  }
 },
 "nbformat": 4,
 "nbformat_minor": 4
}
