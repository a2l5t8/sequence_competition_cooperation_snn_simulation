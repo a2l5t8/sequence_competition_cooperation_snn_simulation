{
 "cells": [
  {
   "cell_type": "markdown",
   "metadata": {},
   "source": [
    "# Cooperation requires mutual interaction"
   ]
  },
  {
   "cell_type": "code",
   "execution_count": 1,
   "metadata": {},
   "outputs": [],
   "source": [
    "import numpy as np\n",
    "import matplotlib.pyplot as plt\n",
    "from matplotlib import cm\n",
    "import sim_wc\n",
    "from params_4_Cooperation import params\n",
    "import scipy.stats as stats\n",
    "from tqdm import tqdm\n",
    "import matplotlib.gridspec as gridspec\n",
    "import tools_wc\n",
    "import copy\n",
    "import matplotlib as mpl\n",
    "plt.rc('text', usetex = True)\n",
    "plt.rcParams['text.latex.preamble'] = r'\\usepackage{amssymb}'\n",
    "plt.rc('font', **{'family': 'serif', 'size': 20})\n",
    "plt.rcParams.update({'font.size': 20})\n",
    "from matplotlib.colors import ListedColormap, LinearSegmentedColormap\n",
    "import tools_plot\n",
    "\n",
    "%load_ext autoreload\n",
    "%autoreload 2"
   ]
  },
  {
   "cell_type": "code",
   "execution_count": 2,
   "metadata": {},
   "outputs": [],
   "source": [
    "t = params['t']\n",
    "\n",
    "fname_res = 'data/4_r_cooperation.pckl'"
   ]
  },
  {
   "cell_type": "code",
   "execution_count": 3,
   "metadata": {},
   "outputs": [
    {
     "name": "stderr",
     "output_type": "stream",
     "text": [
      "  2%|█▋                                                               | 1/40 [06:37<4:18:12, 397.25s/it]\n"
     ]
    },
    {
     "ename": "KeyboardInterrupt",
     "evalue": "",
     "output_type": "error",
     "traceback": [
      "\u001b[0;31m---------------------------------------------------------------------------\u001b[0m",
      "\u001b[0;31mKeyboardInterrupt\u001b[0m                         Traceback (most recent call last)",
      "Input \u001b[0;32mIn [3]\u001b[0m, in \u001b[0;36m<cell line: 3>\u001b[0;34m()\u001b[0m\n\u001b[1;32m     20\u001b[0m         sim\u001b[38;5;241m.\u001b[39mpair_sequences(\n\u001b[1;32m     21\u001b[0m             pos_sender\u001b[38;5;241m=\u001b[39m\u001b[38;5;241m1\u001b[39m,\n\u001b[1;32m     22\u001b[0m             pos_target\u001b[38;5;241m=\u001b[39m\u001b[38;5;241m2\u001b[39m,\n\u001b[1;32m     23\u001b[0m             pot\u001b[38;5;241m=\u001b[39mpot_pr_0,\n\u001b[1;32m     24\u001b[0m             type_proj\u001b[38;5;241m=\u001b[39mparams[\u001b[38;5;124m'\u001b[39m\u001b[38;5;124mtype_proj\u001b[39m\u001b[38;5;124m'\u001b[39m],\n\u001b[1;32m     25\u001b[0m             delta_assembly\u001b[38;5;241m=\u001b[39mparams[\u001b[38;5;124m'\u001b[39m\u001b[38;5;124mdelta_assembly\u001b[39m\u001b[38;5;124m'\u001b[39m])\n\u001b[1;32m     26\u001b[0m         sim\u001b[38;5;241m.\u001b[39mpair_sequences(\n\u001b[1;32m     27\u001b[0m             pos_sender\u001b[38;5;241m=\u001b[39m\u001b[38;5;241m2\u001b[39m,\n\u001b[1;32m     28\u001b[0m             pos_target\u001b[38;5;241m=\u001b[39m\u001b[38;5;241m1\u001b[39m,\n\u001b[1;32m     29\u001b[0m             pot\u001b[38;5;241m=\u001b[39mpot_pr_1,\n\u001b[1;32m     30\u001b[0m             type_proj\u001b[38;5;241m=\u001b[39mparams[\u001b[38;5;124m'\u001b[39m\u001b[38;5;124mtype_proj\u001b[39m\u001b[38;5;124m'\u001b[39m],\n\u001b[1;32m     31\u001b[0m             delta_assembly\u001b[38;5;241m=\u001b[39mparams[\u001b[38;5;124m'\u001b[39m\u001b[38;5;124mdelta_assembly\u001b[39m\u001b[38;5;124m'\u001b[39m])\n\u001b[0;32m---> 32\u001b[0m         _, r_ij \u001b[38;5;241m=\u001b[39m \u001b[43msim\u001b[49m\u001b[38;5;241;43m.\u001b[39;49m\u001b[43mrun\u001b[49m\u001b[43m(\u001b[49m\u001b[43m)\u001b[49m\n\u001b[1;32m     33\u001b[0m         r[i, j, :, :] \u001b[38;5;241m=\u001b[39m r_ij\u001b[38;5;241m.\u001b[39mT\n\u001b[1;32m     34\u001b[0m tools_wc\u001b[38;5;241m.\u001b[39msave_pckl(r, fname_res)\n",
      "File \u001b[0;32m~/work/sequence_competition_cooperation/sim_wc.py:172\u001b[0m, in \u001b[0;36mSimulator.run\u001b[0;34m(self, model, params_model, r0, actfun)\u001b[0m\n\u001b[1;32m    169\u001b[0m \u001b[38;5;28;01mfor\u001b[39;00m i, seq_i \u001b[38;5;129;01min\u001b[39;00m \u001b[38;5;28menumerate\u001b[39m(p[\u001b[38;5;124m'\u001b[39m\u001b[38;5;124mseqs\u001b[39m\u001b[38;5;124m'\u001b[39m]):\n\u001b[1;32m    170\u001b[0m     r0[seq_i[\u001b[38;5;241m0\u001b[39m]\u001b[38;5;241m*\u001b[39m\u001b[38;5;241m2\u001b[39m] \u001b[38;5;241m=\u001b[39m p[\u001b[38;5;124m'\u001b[39m\u001b[38;5;124mr0\u001b[39m\u001b[38;5;124m'\u001b[39m][i]\n\u001b[0;32m--> 172\u001b[0m sol \u001b[38;5;241m=\u001b[39m \u001b[43mintgrt\u001b[49m\u001b[38;5;241;43m.\u001b[39;49m\u001b[43msolve_ivp\u001b[49m\u001b[43m(\u001b[49m\u001b[43mmodel\u001b[49m\u001b[43m,\u001b[49m\u001b[43m \u001b[49m\u001b[43m(\u001b[49m\u001b[43mt\u001b[49m\u001b[43m[\u001b[49m\u001b[38;5;241;43m0\u001b[39;49m\u001b[43m]\u001b[49m\u001b[43m,\u001b[49m\u001b[43m \u001b[49m\u001b[43mt\u001b[49m\u001b[43m[\u001b[49m\u001b[38;5;241;43m-\u001b[39;49m\u001b[38;5;241;43m1\u001b[39;49m\u001b[43m]\u001b[49m\u001b[43m)\u001b[49m\u001b[43m,\u001b[49m\u001b[43m \u001b[49m\u001b[43mr0\u001b[49m\u001b[43m,\u001b[49m\u001b[43m \u001b[49m\u001b[43mt_eval\u001b[49m\u001b[38;5;241;43m=\u001b[39;49m\u001b[43mt\u001b[49m\u001b[43m,\u001b[49m\u001b[43m \u001b[49m\u001b[43margs\u001b[49m\u001b[38;5;241;43m=\u001b[39;49m\u001b[43mparams_model\u001b[49m\u001b[43m,\u001b[49m\u001b[43m \u001b[49m\u001b[43mmethod\u001b[49m\u001b[38;5;241;43m=\u001b[39;49m\u001b[38;5;124;43m'\u001b[39;49m\u001b[38;5;124;43mLSODA\u001b[39;49m\u001b[38;5;124;43m'\u001b[39;49m\u001b[43m)\u001b[49m\n\u001b[1;32m    173\u001b[0m r \u001b[38;5;241m=\u001b[39m sol\u001b[38;5;241m.\u001b[39my\n\u001b[1;32m    174\u001b[0m \u001b[38;5;28;01mreturn\u001b[39;00m t, r\n",
      "File \u001b[0;32m/opt/conda/lib/python3.10/site-packages/scipy/integrate/_ivp/ivp.py:580\u001b[0m, in \u001b[0;36msolve_ivp\u001b[0;34m(fun, t_span, y0, method, t_eval, dense_output, events, vectorized, args, **options)\u001b[0m\n\u001b[1;32m    578\u001b[0m status \u001b[38;5;241m=\u001b[39m \u001b[38;5;28;01mNone\u001b[39;00m\n\u001b[1;32m    579\u001b[0m \u001b[38;5;28;01mwhile\u001b[39;00m status \u001b[38;5;129;01mis\u001b[39;00m \u001b[38;5;28;01mNone\u001b[39;00m:\n\u001b[0;32m--> 580\u001b[0m     message \u001b[38;5;241m=\u001b[39m \u001b[43msolver\u001b[49m\u001b[38;5;241;43m.\u001b[39;49m\u001b[43mstep\u001b[49m\u001b[43m(\u001b[49m\u001b[43m)\u001b[49m\n\u001b[1;32m    582\u001b[0m     \u001b[38;5;28;01mif\u001b[39;00m solver\u001b[38;5;241m.\u001b[39mstatus \u001b[38;5;241m==\u001b[39m \u001b[38;5;124m'\u001b[39m\u001b[38;5;124mfinished\u001b[39m\u001b[38;5;124m'\u001b[39m:\n\u001b[1;32m    583\u001b[0m         status \u001b[38;5;241m=\u001b[39m \u001b[38;5;241m0\u001b[39m\n",
      "File \u001b[0;32m/opt/conda/lib/python3.10/site-packages/scipy/integrate/_ivp/base.py:181\u001b[0m, in \u001b[0;36mOdeSolver.step\u001b[0;34m(self)\u001b[0m\n\u001b[1;32m    179\u001b[0m \u001b[38;5;28;01melse\u001b[39;00m:\n\u001b[1;32m    180\u001b[0m     t \u001b[38;5;241m=\u001b[39m \u001b[38;5;28mself\u001b[39m\u001b[38;5;241m.\u001b[39mt\n\u001b[0;32m--> 181\u001b[0m     success, message \u001b[38;5;241m=\u001b[39m \u001b[38;5;28;43mself\u001b[39;49m\u001b[38;5;241;43m.\u001b[39;49m\u001b[43m_step_impl\u001b[49m\u001b[43m(\u001b[49m\u001b[43m)\u001b[49m\n\u001b[1;32m    183\u001b[0m     \u001b[38;5;28;01mif\u001b[39;00m \u001b[38;5;129;01mnot\u001b[39;00m success:\n\u001b[1;32m    184\u001b[0m         \u001b[38;5;28mself\u001b[39m\u001b[38;5;241m.\u001b[39mstatus \u001b[38;5;241m=\u001b[39m \u001b[38;5;124m'\u001b[39m\u001b[38;5;124mfailed\u001b[39m\u001b[38;5;124m'\u001b[39m\n",
      "File \u001b[0;32m/opt/conda/lib/python3.10/site-packages/scipy/integrate/_ivp/lsoda.py:152\u001b[0m, in \u001b[0;36mLSODA._step_impl\u001b[0;34m(self)\u001b[0m\n\u001b[1;32m    150\u001b[0m itask \u001b[38;5;241m=\u001b[39m integrator\u001b[38;5;241m.\u001b[39mcall_args[\u001b[38;5;241m2\u001b[39m]\n\u001b[1;32m    151\u001b[0m integrator\u001b[38;5;241m.\u001b[39mcall_args[\u001b[38;5;241m2\u001b[39m] \u001b[38;5;241m=\u001b[39m \u001b[38;5;241m5\u001b[39m\n\u001b[0;32m--> 152\u001b[0m solver\u001b[38;5;241m.\u001b[39m_y, solver\u001b[38;5;241m.\u001b[39mt \u001b[38;5;241m=\u001b[39m \u001b[43mintegrator\u001b[49m\u001b[38;5;241;43m.\u001b[39;49m\u001b[43mrun\u001b[49m\u001b[43m(\u001b[49m\n\u001b[1;32m    153\u001b[0m \u001b[43m    \u001b[49m\u001b[43msolver\u001b[49m\u001b[38;5;241;43m.\u001b[39;49m\u001b[43mf\u001b[49m\u001b[43m,\u001b[49m\u001b[43m \u001b[49m\u001b[43msolver\u001b[49m\u001b[38;5;241;43m.\u001b[39;49m\u001b[43mjac\u001b[49m\u001b[43m \u001b[49m\u001b[38;5;129;43;01mor\u001b[39;49;00m\u001b[43m \u001b[49m\u001b[43m(\u001b[49m\u001b[38;5;28;43;01mlambda\u001b[39;49;00m\u001b[43m:\u001b[49m\u001b[43m \u001b[49m\u001b[38;5;28;43;01mNone\u001b[39;49;00m\u001b[43m)\u001b[49m\u001b[43m,\u001b[49m\u001b[43m \u001b[49m\u001b[43msolver\u001b[49m\u001b[38;5;241;43m.\u001b[39;49m\u001b[43m_y\u001b[49m\u001b[43m,\u001b[49m\u001b[43m \u001b[49m\u001b[43msolver\u001b[49m\u001b[38;5;241;43m.\u001b[39;49m\u001b[43mt\u001b[49m\u001b[43m,\u001b[49m\n\u001b[1;32m    154\u001b[0m \u001b[43m    \u001b[49m\u001b[38;5;28;43mself\u001b[39;49m\u001b[38;5;241;43m.\u001b[39;49m\u001b[43mt_bound\u001b[49m\u001b[43m,\u001b[49m\u001b[43m \u001b[49m\u001b[43msolver\u001b[49m\u001b[38;5;241;43m.\u001b[39;49m\u001b[43mf_params\u001b[49m\u001b[43m,\u001b[49m\u001b[43m \u001b[49m\u001b[43msolver\u001b[49m\u001b[38;5;241;43m.\u001b[39;49m\u001b[43mjac_params\u001b[49m\u001b[43m)\u001b[49m\n\u001b[1;32m    155\u001b[0m integrator\u001b[38;5;241m.\u001b[39mcall_args[\u001b[38;5;241m2\u001b[39m] \u001b[38;5;241m=\u001b[39m itask\n\u001b[1;32m    157\u001b[0m \u001b[38;5;28;01mif\u001b[39;00m solver\u001b[38;5;241m.\u001b[39msuccessful():\n",
      "File \u001b[0;32m/opt/conda/lib/python3.10/site-packages/scipy/integrate/_ode.py:1346\u001b[0m, in \u001b[0;36mlsoda.run\u001b[0;34m(self, f, jac, y0, t0, t1, f_params, jac_params)\u001b[0m\n\u001b[1;32m   1343\u001b[0m     \u001b[38;5;28mself\u001b[39m\u001b[38;5;241m.\u001b[39macquire_new_handle()\n\u001b[1;32m   1344\u001b[0m args \u001b[38;5;241m=\u001b[39m [f, y0, t0, t1] \u001b[38;5;241m+\u001b[39m \u001b[38;5;28mself\u001b[39m\u001b[38;5;241m.\u001b[39mcall_args[:\u001b[38;5;241m-\u001b[39m\u001b[38;5;241m1\u001b[39m] \u001b[38;5;241m+\u001b[39m \\\n\u001b[1;32m   1345\u001b[0m        [jac, \u001b[38;5;28mself\u001b[39m\u001b[38;5;241m.\u001b[39mcall_args[\u001b[38;5;241m-\u001b[39m\u001b[38;5;241m1\u001b[39m], f_params, \u001b[38;5;241m0\u001b[39m, jac_params]\n\u001b[0;32m-> 1346\u001b[0m y1, t, istate \u001b[38;5;241m=\u001b[39m \u001b[38;5;28;43mself\u001b[39;49m\u001b[38;5;241;43m.\u001b[39;49m\u001b[43mrunner\u001b[49m\u001b[43m(\u001b[49m\u001b[38;5;241;43m*\u001b[39;49m\u001b[43margs\u001b[49m\u001b[43m)\u001b[49m\n\u001b[1;32m   1347\u001b[0m \u001b[38;5;28mself\u001b[39m\u001b[38;5;241m.\u001b[39mistate \u001b[38;5;241m=\u001b[39m istate\n\u001b[1;32m   1348\u001b[0m \u001b[38;5;28;01mif\u001b[39;00m istate \u001b[38;5;241m<\u001b[39m \u001b[38;5;241m0\u001b[39m:\n",
      "\u001b[0;31mKeyboardInterrupt\u001b[0m: "
     ]
    }
   ],
   "source": [
    "load_res = False\n",
    "\n",
    "if load_res:\n",
    "    r = tools_wc.load_pckl(fname_res)\n",
    "    \n",
    "else:\n",
    "\n",
    "    r = np.zeros([\n",
    "        len(params['range_pot_pairing0']),\n",
    "        len(params['range_pot_pairing1']),\n",
    "        len(t),\n",
    "        len(np.concatenate(params['seqs']))*2,\n",
    "        ])\n",
    "\n",
    "    for i, pot_pr_0 in enumerate(tqdm(params['range_pot_pairing0'])):\n",
    "        for j, pot_pr_1 in enumerate(params['range_pot_pairing1']):\n",
    "            sim = sim_wc.Simulator(params)\n",
    "            sim.set_interaction_matrix()\n",
    "            # pair sequences\n",
    "            sim.pair_sequences(\n",
    "                pos_sender=1,\n",
    "                pos_target=2,\n",
    "                pot=pot_pr_0,\n",
    "                type_proj=params['type_proj'],\n",
    "                delta_assembly=params['delta_assembly'])\n",
    "            sim.pair_sequences(\n",
    "                pos_sender=2,\n",
    "                pos_target=1,\n",
    "                pot=pot_pr_1,\n",
    "                type_proj=params['type_proj'],\n",
    "                delta_assembly=params['delta_assembly'])\n",
    "            _, r_ij = sim.run()\n",
    "            r[i, j, :, :] = r_ij.T\n",
    "    tools_wc.save_pckl(r, fname_res)"
   ]
  },
  {
   "cell_type": "code",
   "execution_count": null,
   "metadata": {},
   "outputs": [],
   "source": [
    "rE = r[:, :, :, ::2]\n",
    "\n",
    "crit = np.zeros([\n",
    "    len(params['range_pot_pairing0']),\n",
    "    len(params['range_pot_pairing1']),\n",
    "    len(params['seqs'])\n",
    "], dtype=bool)\n",
    "\n",
    "dt = np.mean(np.unique(np.diff(params['t'])))\n",
    "\n",
    "for i in tqdm(range(len(params['range_pot_pairing0']))):\n",
    "    for j in range(len(params['range_pot_pairing1'])):\n",
    "        for m, seq_m in enumerate(params['seqs']):\n",
    "            rE_ijm = rE[i, j, :, :][:, seq_m]  \n",
    "            seq_m_pos = seq_m - seq_m[0]\n",
    "            crit[i, j, m] = tools_wc.peak_criterium(rE_ijm, params['r_min'], seq_m_pos, params['tol'])"
   ]
  },
  {
   "cell_type": "code",
   "execution_count": null,
   "metadata": {},
   "outputs": [],
   "source": [
    "crit_12lumped = np.zeros([\n",
    "    len(params['range_pot_pairing0']),\n",
    "    len(params['range_pot_pairing1']),\n",
    "    2\n",
    "], dtype=bool)"
   ]
  },
  {
   "cell_type": "code",
   "execution_count": null,
   "metadata": {},
   "outputs": [],
   "source": [
    "crit_12lumped[:,:,0] = crit[:,:,0]\n",
    "crit_12lumped[:,:,1] = np.logical_and(crit[:,:,1], crit[:,:,2])"
   ]
  },
  {
   "cell_type": "code",
   "execution_count": null,
   "metadata": {},
   "outputs": [],
   "source": [
    "cmap = mpl.cm.get_cmap('Greys')\n",
    "\n",
    "cmaplist = [cmap(i) for i in range(cmap.N)]\n",
    "alpha_adjusted = 0.5  # You can set this to a value between 0 (fully transparent) and 1 (fully opaque)\n",
    "cmaplist = [(r, g, b, alpha_adjusted) for r, g, b, _ in cmaplist]\n",
    "\n",
    "# create the new map\n",
    "cmap = mpl.colors.LinearSegmentedColormap.from_list(\n",
    "    'Custom cmap', cmaplist, cmap.N)\n",
    "# define the bins and normalize\n",
    "bounds = [0, 0.9, 1.1, 2.]\n",
    "norm = mpl.colors.BoundaryNorm(bounds, cmap.N)"
   ]
  },
  {
   "cell_type": "code",
   "execution_count": null,
   "metadata": {},
   "outputs": [],
   "source": [
    "ar_examples = np.array([\n",
    "    [1.5e-2, 1.5e-2],\n",
    "    [1.9e-2, 1.9e-2],\n",
    "    [2.6e-2, 2.6e-2],\n",
    "    [3e-2, 3e-2],\n",
    "\n",
    "]) # x, y"
   ]
  },
  {
   "cell_type": "code",
   "execution_count": null,
   "metadata": {},
   "outputs": [],
   "source": [
    "piv = np.sum(crit_12lumped, axis=2)\n",
    "f = 0.1\n",
    "piv = piv - f*crit_12lumped[:, :, 0]\n",
    "piv = piv + f*crit_12lumped[:, :, 1]\n",
    "\n",
    "fig, ax = plt.subplots(\n",
    "    1, 2, squeeze=False,\n",
    "    gridspec_kw={'width_ratios': [0.95, 0.05]},\n",
    "    figsize=(7,5),\n",
    ")\n",
    "\n",
    "\n",
    "ax[0,0].set_ylabel(r'$p^{21}_{ff}$')\n",
    "ax[0,0].set_xlabel(r'$p^{12}_{ff}$')\n",
    "ax[0,0].set_title(r'Competition scenarios')\n",
    "\n",
    "\n",
    "ax[0,0].set_aspect('equal')\n",
    "\n",
    "\n",
    "X, Y = np.meshgrid(\n",
    "    params['range_pot_pairing0']*params['p_ff'],\n",
    "    params['range_pot_pairing1']*params['p_ff'])\n",
    "heatmap = ax[0,0].pcolormesh(\n",
    "    X,\n",
    "    Y,\n",
    "    piv, cmap=cmap, norm=norm)\n",
    "\n",
    "ax[0,0].set_xticks(ax[0,0].get_yticks())\n",
    "fig.canvas.draw()\n",
    "labels = [item.get_text() for item in ax[0,0].get_xticklabels()]\n",
    "ax[0,0].set_xticklabels(labels, rotation=45)\n",
    "ax[0,0].set_xlim(ax[0,0].get_ylim())\n",
    "\n",
    "\n",
    "ax2 = ax[0, 1]\n",
    "\n",
    "cb = mpl.colorbar.ColorbarBase(\n",
    "    ax2, cmap=cmap, norm=norm,\n",
    "    #spacing='proportional',\n",
    "    #ticks=[0.5, 1., 1.5, 2.5],\n",
    "    ticks=[0.5, 1., 1.5],\n",
    "    boundaries=bounds[:-1], format='%2i')\n",
    "cb.ax.set_yticklabels(\n",
    "    ['no winner',\n",
    "     '$s^0$ wins',\n",
    "     '$s^1$ and $s^2$ win'])\n",
    "\n",
    "# draw arrows\n",
    "dx, dy = 0, -3e-3\n",
    "head_length = 1e-3\n",
    "for i, ex_i in enumerate(ar_examples):\n",
    "    p__12_ff_i, p__21_ff_i = ex_i\n",
    "    ax[0,0].arrow(\n",
    "        p__12_ff_i-dx, p__21_ff_i-dy+head_length,\n",
    "        dx, dy,\n",
    "        color='r',\n",
    "        width=2e-4,\n",
    "        head_width=1e-3,\n",
    "        head_length=1e-3)\n",
    "\n",
    "    ax[0,0].text(\n",
    "        p__12_ff_i, p__21_ff_i+4e-3,\n",
    "        #r'$\\stackrel$',\n",
    "        #r'$*^{s^'+str(i)+'}$',\n",
    "        r'$c^'+str(i)+'$',\n",
    "             color='r', fontsize=22,\n",
    "        horizontalalignment='center',\n",
    "        verticalalignment='bottom')\n",
    "\n",
    "fig.tight_layout()\n",
    "\n",
    "fig.savefig('figures/4b_CooperationRequiresMutualInteractions.svg')"
   ]
  },
  {
   "cell_type": "markdown",
   "metadata": {},
   "source": [
    "## Activities of examples "
   ]
  },
  {
   "cell_type": "code",
   "execution_count": null,
   "metadata": {},
   "outputs": [],
   "source": [
    "ls_title = [\n",
    "    r'$c^0:s^1 - s^2$',\n",
    "    r'$c^1:s^1 \\leftrightarrow s^2$',\n",
    "    r'$c^2:s^1 \\Leftrightarrow s^2$',\n",
    "    r'$c^3:s^1 \\Longleftrightarrow s^2$',\n",
    "]"
   ]
  },
  {
   "cell_type": "code",
   "execution_count": null,
   "metadata": {},
   "outputs": [],
   "source": [
    "fig, ax = plt.subplots(\n",
    "    len(params['seqs']),\n",
    "    len(ar_examples),\n",
    "    sharex=True, sharey=True,\n",
    "    figsize=(16, 5)\n",
    ")\n",
    "\n",
    "ax[0, 0].set_ylim(0, 30.15)\n",
    "ax[0, 0].set_xlim(0, 20.)\n",
    "ax[0, 0].set_yticks([30])\n",
    "ax[0, 0].set_ylim(0, 30)\n",
    "\n",
    "for i, ex_i in enumerate(ar_examples):\n",
    "    p__12_ff_i, p__21_ff_i = ex_i\n",
    "    idx_p__12_ff_i = np.where(\n",
    "        np.abs(params['range_pot_pairing0']*params['p_ff']-p__12_ff_i)<1e-10\n",
    "        )[0][0]\n",
    "    idx_p__21_ff_i = np.where(\n",
    "        np.abs(params['range_pot_pairing1']*params['p_ff']-p__21_ff_i)<1e-10\n",
    "        )[0][0]\n",
    "\n",
    "    ax[0, i].set_title(ls_title[i])\n",
    "    for j, seq_j in enumerate(params['seqs']):\n",
    "        ax[j, 0].text(\n",
    "            -0.15, 0.5,\n",
    "            r'$s^'+str(j)+'$',\n",
    "            fontsize=22, rotation=0,\n",
    "            va='center', ha='center',\n",
    "            transform=ax[j, 0].transAxes)\n",
    "\n",
    "        for idx_ass_ex_j in seq_j[::2]:\n",
    "            ax[j, i].plot(\n",
    "                params['t'],\n",
    "                rE[idx_p__12_ff_i, idx_p__21_ff_i, :, idx_ass_ex_j])\n",
    "ax[-1, 0].set_xlabel('time [ms]')\n",
    "\n",
    "fig.tight_layout()\n",
    "fig.savefig('figures/4c_Examples.svg')"
   ]
  },
  {
   "cell_type": "markdown",
   "metadata": {},
   "source": [
    "## Mean activation time"
   ]
  },
  {
   "cell_type": "code",
   "execution_count": null,
   "metadata": {},
   "outputs": [],
   "source": [
    "n_i = len(params['range_pot_pairing0'])\n",
    "n_j = len(params['range_pot_pairing1'])\n",
    "\n",
    "ar_mean_act_time = np.empty((n_i, n_j), dtype=float)\n",
    "dt = np.round(np.median(np.diff(params['t'])),4)\n",
    "seq = params['seqs'][1]\n",
    "\n",
    "for i in range(n_i):\n",
    "    for j in range(n_j):\n",
    "        r_ij = rE[i, j, :, seq].T\n",
    "        ar_mean_act_time[i, j] = tools_wc.mean_activation_time(r_ij, params['r_min'], dt)"
   ]
  },
  {
   "cell_type": "code",
   "execution_count": null,
   "metadata": {},
   "outputs": [],
   "source": [
    "fig, ax = plt.subplots(1, 2, squeeze=False, gridspec_kw={'width_ratios': [0.95, 0.05]}, figsize=(4.6,4))\n",
    "\n",
    "ax[0,0].set_ylabel(r'$p^{21}_{ff}$')\n",
    "ax[0,0].set_xlabel(r'$p^{12}_{ff}$')\n",
    "ax[0,0].set_title(r'Mean act. time [ms]')\n",
    "\n",
    "\n",
    "ax[0,0].set_aspect('equal')\n",
    "heatmap = ax[0,0].pcolormesh(\n",
    "    params['range_pot_pairing0']*params['p_ff'],\n",
    "    params['range_pot_pairing1']*params['p_ff'],\n",
    "    ar_mean_act_time.T)\n",
    "\n",
    "ax[0,0].set_xticks(ax[0,0].get_yticks())\n",
    "fig.canvas.draw()\n",
    "labels = [item.get_text() for item in ax[0,0].get_xticklabels()]\n",
    "ax[0,0].set_xticklabels(labels, rotation=45)\n",
    "ax[0,0].set_xlim(ax[0,0].get_ylim())\n",
    "\n",
    "\n",
    "cb = fig.colorbar(heatmap, cax=ax[0,1])\n",
    "#ax[0,1].set_ylabel('ms')\n",
    "\n",
    "fig.savefig('figures/4d_mean_activation_time.svg')"
   ]
  },
  {
   "cell_type": "markdown",
   "metadata": {},
   "source": [
    "## Ratio of activated assemblies"
   ]
  },
  {
   "cell_type": "code",
   "execution_count": null,
   "metadata": {},
   "outputs": [],
   "source": [
    "n_i = len(params['range_pot_pairing0'])\n",
    "n_j = len(params['range_pot_pairing1'])\n",
    "\n",
    "ar_n_active = np.empty((n_i, n_j), dtype=float)\n",
    "dt = np.round(np.median(np.diff(params['t'])),4)\n",
    "seq = params['seqs'][1]\n",
    "\n",
    "for i in range(n_i):\n",
    "    for j in range(n_j):\n",
    "        r_ij = rE[i, j, :, seq].T\n",
    "        ar_n_active[i, j] = tools_wc.number_active(r_ij, params['r_min'])\n",
    "        \n",
    "ar_ratio_active = ar_n_active/len(seq)"
   ]
  },
  {
   "cell_type": "code",
   "execution_count": null,
   "metadata": {},
   "outputs": [],
   "source": [
    "fig, ax = plt.subplots(1, 2, squeeze=False, gridspec_kw={'width_ratios': [0.95, 0.05]}, figsize=(4.6,4))\n",
    "\n",
    "ax[0,0].set_ylabel(r'$p^{21}_{ff}$')\n",
    "ax[0,0].set_xlabel(r'$p^{12}_{ff}$')\n",
    "ax[0,0].set_title(r'Ratio act. assemblies')\n",
    "\n",
    "\n",
    "ax[0,0].set_aspect('equal')\n",
    "heatmap = ax[0,0].pcolormesh(\n",
    "    params['range_pot_pairing0']*params['p_ff'],\n",
    "    params['range_pot_pairing1']*params['p_ff'],\n",
    "    ar_ratio_active.T,\n",
    "    vmin=0)\n",
    "\n",
    "ax[0,0].set_xticks(ax[0,0].get_yticks())\n",
    "fig.canvas.draw()\n",
    "labels = [item.get_text() for item in ax[0,0].get_xticklabels()]\n",
    "ax[0,0].set_xticklabels(labels, rotation=45)\n",
    "ax[0,0].set_xlim(ax[0,0].get_ylim())\n",
    "\n",
    "\n",
    "cb = fig.colorbar(heatmap, cax=ax[0,1])\n",
    "\n",
    "fig.savefig('figures/4e_ratio_active.svg')"
   ]
  },
  {
   "cell_type": "code",
   "execution_count": null,
   "metadata": {},
   "outputs": [],
   "source": [
    "np.median(ar_ratio_active)"
   ]
  },
  {
   "cell_type": "markdown",
   "metadata": {},
   "source": [
    "## Activation time of first assembly"
   ]
  },
  {
   "cell_type": "code",
   "execution_count": null,
   "metadata": {},
   "outputs": [],
   "source": [
    "n_i = len(params['range_pot_pairing0'])\n",
    "n_j = len(params['range_pot_pairing1'])\n",
    "\n",
    "ar_act_time_first = np.empty((n_i, n_j), dtype=float)\n",
    "dt = np.round(np.median(np.diff(params['t'])),4)\n",
    "seq = params['seqs'][1]\n",
    "\n",
    "for i in range(n_i):\n",
    "    for j in range(n_j):\n",
    "        r_ij = rE[i, j, :, seq[0,]].T\n",
    "        ar_act_time_first[i, j] = tools_wc.mean_activation_time(r_ij, params['r_min'], dt)"
   ]
  },
  {
   "cell_type": "code",
   "execution_count": null,
   "metadata": {},
   "outputs": [],
   "source": [
    "fig, ax = plt.subplots(1, 2, squeeze=False, gridspec_kw={'width_ratios': [0.95, 0.05]}, figsize=(4.6,4))\n",
    "\n",
    "ax[0,0].set_ylabel(r'$p^{21}_{ff}$')\n",
    "ax[0,0].set_xlabel(r'$p^{12}_{ff}$')\n",
    "ax[0,0].set_title(r'Act. time 1st assembly [ms] ')\n",
    "\n",
    "\n",
    "ax[0,0].set_aspect('equal')\n",
    "heatmap = ax[0,0].pcolormesh(\n",
    "    params['range_pot_pairing0']*params['p_ff'],\n",
    "    params['range_pot_pairing1']*params['p_ff'],\n",
    "    ar_act_time_first.T)\n",
    "\n",
    "ax[0,0].set_xticks(ax[0,0].get_yticks())\n",
    "fig.canvas.draw()\n",
    "labels = [item.get_text() for item in ax[0,0].get_xticklabels()]\n",
    "ax[0,0].set_xticklabels(labels, rotation=45)\n",
    "ax[0,0].set_xlim(ax[0,0].get_ylim())\n",
    "\n",
    "\n",
    "cb = fig.colorbar(heatmap, cax=ax[0,1])\n",
    "#ax[0,1].set_ylabel('ms')\n",
    "\n",
    "fig.savefig('figures/4f_activationtimefirstassembly.svg')"
   ]
  },
  {
   "cell_type": "markdown",
   "metadata": {},
   "source": [
    "### Speed of reference sequence"
   ]
  },
  {
   "cell_type": "code",
   "execution_count": null,
   "metadata": {},
   "outputs": [],
   "source": [
    "seq = params['seqs'][0]\n",
    "\n",
    "p_ff_i, p_ff_j = ar_examples[0]\n",
    "\n",
    "idx_p_ff_i = np.where(\n",
    "    np.abs(params['range_pot_pairing0']*params['p_ff']-p_ff_i)<1e-10\n",
    "    )[0][0]\n",
    "idx_p_ff_j = np.where(\n",
    "    np.abs(params['range_pot_pairing1']*params['p_ff']-p_ff_j)<1e-10\n",
    "    )[0][0]\n",
    "\n",
    "dt = np.round(np.median(np.diff(params['t'])),4)\n",
    "\n",
    "r_ij = rE[idx_p_ff_i, idx_p_ff_j, :, seq].T\n",
    "\n",
    "seq_speed_i = tools_wc.sequence_speed(r_ij, params['r_min'], params['tol'], dt)"
   ]
  },
  {
   "cell_type": "code",
   "execution_count": null,
   "metadata": {},
   "outputs": [],
   "source": [
    "seq_speed_i"
   ]
  },
  {
   "cell_type": "code",
   "execution_count": null,
   "metadata": {},
   "outputs": [],
   "source": []
  }
 ],
 "metadata": {
  "kernelspec": {
   "display_name": "Python 3 (ipykernel)",
   "language": "python",
   "name": "python3"
  },
  "language_info": {
   "codemirror_mode": {
    "name": "ipython",
    "version": 3
   },
   "file_extension": ".py",
   "mimetype": "text/x-python",
   "name": "python",
   "nbconvert_exporter": "python",
   "pygments_lexer": "ipython3",
   "version": "3.10.5"
  }
 },
 "nbformat": 4,
 "nbformat_minor": 4
}
