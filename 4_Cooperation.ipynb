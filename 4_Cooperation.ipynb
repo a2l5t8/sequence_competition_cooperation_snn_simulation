{
 "cells": [
  {
   "cell_type": "markdown",
   "metadata": {},
   "source": [
    "# Cooperation requires mutual interaction"
   ]
  },
  {
   "cell_type": "code",
   "execution_count": 9,
   "metadata": {},
   "outputs": [
    {
     "name": "stdout",
     "output_type": "stream",
     "text": [
      "The autoreload extension is already loaded. To reload it, use:\n",
      "  %reload_ext autoreload\n"
     ]
    }
   ],
   "source": [
    "import numpy as np\n",
    "import matplotlib.pyplot as plt\n",
    "from matplotlib import cm\n",
    "import sim_wc\n",
    "from params_4_Cooperation import params\n",
    "import scipy.stats as stats\n",
    "from tqdm import tqdm\n",
    "import matplotlib.gridspec as gridspec\n",
    "import tools_wc\n",
    "import copy\n",
    "import matplotlib as mpl\n",
    "plt.rc('text', usetex = True)\n",
    "plt.rcParams['text.latex.preamble'] = r'\\usepackage{amssymb}'\n",
    "plt.rc('font', **{'family': 'serif', 'size': 20})\n",
    "plt.rcParams.update({'font.size': 20})\n",
    "from matplotlib.colors import ListedColormap, LinearSegmentedColormap\n",
    "\n",
    "%load_ext autoreload\n",
    "%autoreload 2"
   ]
  },
  {
   "cell_type": "code",
   "execution_count": 10,
   "metadata": {},
   "outputs": [],
   "source": [
    "t = params['t']\n",
    "\n",
    "fname_res = 'data/4_r_cooperation.pckl'"
   ]
  },
  {
   "cell_type": "code",
   "execution_count": null,
   "metadata": {},
   "outputs": [
    {
     "name": "stderr",
     "output_type": "stream",
     "text": [
      " 10%|█         | 4/40 [17:33<2:41:17, 268.81s/it]"
     ]
    }
   ],
   "source": [
    "load_res = False\n",
    "\n",
    "if load_res:\n",
    "    r = tools_wc.load_pckl(fname_res)\n",
    "    \n",
    "else:\n",
    "\n",
    "    r = np.zeros([\n",
    "        len(params['range_pot_pairing0']),\n",
    "        len(params['range_pot_pairing1']),\n",
    "        len(t),\n",
    "        len(np.concatenate(params['seqs']))*2,\n",
    "        ])\n",
    "\n",
    "    for i, pot_pr_0 in enumerate(tqdm(params['range_pot_pairing0'])):\n",
    "        for j, pot_pr_1 in enumerate(params['range_pot_pairing1']):\n",
    "            sim = sim_wc.Simulator(params)\n",
    "            sim.set_interaction_matrix()\n",
    "            # pair sequences\n",
    "            sim.pair_sequences(\n",
    "                pos_sender=1,\n",
    "                pos_target=2,\n",
    "                pot=pot_pr_0,\n",
    "                type_proj=params['type_proj'],\n",
    "                delta_assembly=params['delta_assembly'])\n",
    "            sim.pair_sequences(\n",
    "                pos_sender=2,\n",
    "                pos_target=1,\n",
    "                pot=pot_pr_1,\n",
    "                type_proj=params['type_proj'],\n",
    "                delta_assembly=params['delta_assembly'])\n",
    "            _, r_ij = sim.run()\n",
    "            r[i, j, :, :] = r_ij.T\n",
    "    tools_wc.save_pckl(r, fname_res)"
   ]
  },
  {
   "cell_type": "code",
   "execution_count": null,
   "metadata": {},
   "outputs": [],
   "source": [
    "rE = r[:, :, :, ::2]\n",
    "\n",
    "crit = np.zeros([\n",
    "    len(params['range_pot_pairing0']),\n",
    "    len(params['range_pot_pairing1']),\n",
    "    len(params['seqs'])\n",
    "], dtype=bool)\n",
    "\n",
    "dt = np.mean(np.unique(np.diff(params['t'])))\n",
    "\n",
    "for i in tqdm(range(len(params['range_pot_pairing0']))):\n",
    "    for j in range(len(params['range_pot_pairing1'])):\n",
    "        for m, seq_m in enumerate(params['seqs']):\n",
    "            rE_ijm = rE[i, j, :, :][:, seq_m]  \n",
    "            seq_m_pos = seq_m - seq_m[0]\n",
    "            crit[i, j, m] = tools_wc.peak_criterium(rE_ijm, params['r_min'], seq_m_pos, params['tol'])"
   ]
  },
  {
   "cell_type": "code",
   "execution_count": null,
   "metadata": {},
   "outputs": [],
   "source": [
    "crit_12lumped = np.zeros([\n",
    "    len(params['range_pot_pairing0']),\n",
    "    len(params['range_pot_pairing1']),\n",
    "    2\n",
    "], dtype=bool)"
   ]
  },
  {
   "cell_type": "code",
   "execution_count": null,
   "metadata": {},
   "outputs": [],
   "source": [
    "crit_12lumped[:,:,0] = crit[:,:,0]\n",
    "crit_12lumped[:,:,1] = np.logical_and(crit[:,:,1], crit[:,:,2])"
   ]
  },
  {
   "cell_type": "code",
   "execution_count": null,
   "metadata": {},
   "outputs": [],
   "source": [
    "cmap = mpl.cm.get_cmap('Greys')\n",
    "\n",
    "cmaplist = [cmap(i) for i in range(cmap.N)]\n",
    "# create the new map\n",
    "cmap = mpl.colors.LinearSegmentedColormap.from_list(\n",
    "    'Custom cmap', cmaplist, cmap.N)\n",
    "# define the bins and normalize\n",
    "bounds = [0, 0.9, 1.1, 2., 3.]\n",
    "norm = mpl.colors.BoundaryNorm(bounds, cmap.N)"
   ]
  },
  {
   "cell_type": "code",
   "execution_count": null,
   "metadata": {},
   "outputs": [],
   "source": [
    "ar_examples = np.array([\n",
    "    [1.2e-2, 1.2e-2],\n",
    "    [1.7e-2, 1.7e-2],\n",
    "    [2.3e-2, 2.3e-2],\n",
    "    [3e-2, 3e-2],\n",
    "\n",
    "]) # x, y"
   ]
  },
  {
   "cell_type": "code",
   "execution_count": null,
   "metadata": {},
   "outputs": [],
   "source": [
    "piv = np.sum(crit_12lumped, axis=2)\n",
    "f = 0.1\n",
    "piv = piv - f*crit_12lumped[:, :, 0]\n",
    "piv = piv + f*crit_12lumped[:, :, 1]\n",
    "\n",
    "fig, ax = plt.subplots(1, 2, squeeze=False, gridspec_kw={'width_ratios': [0.95, 0.05]}, figsize=(7,5))\n",
    "\n",
    "\n",
    "ax[0,0].set_ylabel(r'$p^{21}_{ff}$')\n",
    "ax[0,0].set_xlabel(r'$p^{12}_{ff}$')\n",
    "ax[0,0].set_title(r'Competition scenarios')\n",
    "\n",
    "\n",
    "ax[0,0].set_aspect('equal')\n",
    "\n",
    "\n",
    "X, Y = np.meshgrid(\n",
    "    params['range_pot_pairing0']*params['p_ff'],\n",
    "    params['range_pot_pairing1']*params['p_ff'])\n",
    "heatmap = ax[0,0].pcolormesh(\n",
    "    X,\n",
    "    Y,\n",
    "    piv, cmap=cmap, norm=norm)\n",
    "\n",
    "ax[0,0].set_xticks(ax[0,0].get_yticks())\n",
    "fig.canvas.draw()\n",
    "labels = [item.get_text() for item in ax[0,0].get_xticklabels()]\n",
    "ax[0,0].set_xticklabels(labels, rotation=45)\n",
    "ax[0,0].set_xlim(ax[0,0].get_ylim())\n",
    "\n",
    "\n",
    "ax2 = ax[0, 1]\n",
    "\n",
    "cb = mpl.colorbar.ColorbarBase(\n",
    "    ax2, cmap=cmap, norm=norm,\n",
    "    #spacing='proportional',\n",
    "    #ticks=[0.5, 1., 1.5, 2.5],\n",
    "    ticks=[0.5, 1., 1.5],\n",
    "    boundaries=bounds[:-1], format='%2i')\n",
    "cb.ax.set_yticklabels(\n",
    "    ['no winner',\n",
    "     '$s^0$ wins',\n",
    "     '$s^1$ and $s^2$ win'])\n",
    "\n",
    "# draw arrows\n",
    "dx, dy = 0, -3e-3\n",
    "head_length = 1e-3\n",
    "for i, ex_i in enumerate(ar_examples):\n",
    "    p__12_ff_i, p__21_ff_i = ex_i\n",
    "    ax[0,0].arrow(\n",
    "        p__12_ff_i-dx, p__21_ff_i-dy+head_length,\n",
    "        dx, dy,\n",
    "        color='r',\n",
    "        width=2e-4,\n",
    "        head_width=1e-3,\n",
    "        head_length=1e-3)\n",
    "\n",
    "    ax[0,0].text(\n",
    "        p__12_ff_i, p__21_ff_i+4e-3,\n",
    "        #r'$\\stackrel$',\n",
    "        #r'$*^{s^'+str(i)+'}$',\n",
    "        r'$c^'+str(i)+'$',\n",
    "             color='r', fontsize=22,\n",
    "        horizontalalignment='center',\n",
    "        verticalalignment='bottom')\n",
    "\n",
    "fig.tight_layout()\n",
    "\n",
    "fig.savefig('figures/4b_CooperationRequiresMutualInteractions.svg')"
   ]
  },
  {
   "cell_type": "markdown",
   "metadata": {},
   "source": [
    "## Activities of examples "
   ]
  },
  {
   "cell_type": "code",
   "execution_count": null,
   "metadata": {},
   "outputs": [],
   "source": [
    "ls_title = [\n",
    "    r'$c^0:s^1 - s^2$',\n",
    "    r'$c^1:s^1 \\leftrightarrow s^2$',\n",
    "    r'$c^2:s^1 \\Leftrightarrow s^2$',\n",
    "    r'$c^3:s^1 \\Longleftrightarrow s^2$',\n",
    "]"
   ]
  },
  {
   "cell_type": "code",
   "execution_count": null,
   "metadata": {},
   "outputs": [],
   "source": [
    "fig, ax = plt.subplots(\n",
    "    len(params['seqs']),\n",
    "    len(ar_examples),\n",
    "    sharex=True, sharey=True,\n",
    "    figsize=(16, 5)\n",
    ")\n",
    "\n",
    "ax[0, 0].set_ylim(0, 1.05)\n",
    "ax[0, 0].set_xlim(0, 20.)\n",
    "\n",
    "for i, ex_i in enumerate(ar_examples):\n",
    "    p__12_ff_i, p__21_ff_i = ex_i\n",
    "    idx_p__12_ff_i = np.where(\n",
    "        np.abs(params['range_pot_pairing0']*params['p_ff']-p__12_ff_i)<1e-10\n",
    "        )[0][0]\n",
    "    idx_p__21_ff_i = np.where(\n",
    "        np.abs(params['range_pot_pairing1']*params['p_ff']-p__21_ff_i)<1e-10\n",
    "        )[0][0]\n",
    "\n",
    "    ax[0, i].set_title(ls_title[i])\n",
    "    for j, seq_j in enumerate(params['seqs']):\n",
    "        ax[j, 0].text(\n",
    "            -0.15, 0.5,\n",
    "            r'$s^'+str(j)+'$',\n",
    "            fontsize=22, rotation=0,\n",
    "            va='center', ha='center',\n",
    "            transform=ax[j, 0].transAxes)\n",
    "\n",
    "        for idx_ass_ex_j in seq_j[::2]:\n",
    "            ax[j, i].plot(\n",
    "                params['t'],\n",
    "                rE[idx_p__12_ff_i, idx_p__21_ff_i, :, idx_ass_ex_j])\n",
    "fig.tight_layout()\n",
    "fig.savefig('figures/4c_Examples.svg')"
   ]
  },
  {
   "cell_type": "markdown",
   "metadata": {},
   "source": [
    "## Mean activation time"
   ]
  },
  {
   "cell_type": "code",
   "execution_count": null,
   "metadata": {},
   "outputs": [],
   "source": [
    "n_i = len(params['range_pot_pairing0'])\n",
    "n_j = len(params['range_pot_pairing1'])\n",
    "\n",
    "ar_mean_act_time = np.empty((n_i, n_j), dtype=float)\n",
    "dt = np.round(np.median(np.diff(params['t'])),4)\n",
    "seq = params['seqs'][1]\n",
    "\n",
    "for i in range(n_i):\n",
    "    for j in range(n_j):\n",
    "        r_ij = rE[i, j, :, seq].T\n",
    "        ar_mean_act_time[i, j] = tools_wc.mean_activation_time(r_ij, params['r_min'], dt)"
   ]
  },
  {
   "cell_type": "code",
   "execution_count": null,
   "metadata": {
    "scrolled": false
   },
   "outputs": [],
   "source": [
    "fig, ax = plt.subplots(1, 2, squeeze=False, gridspec_kw={'width_ratios': [0.95, 0.05]}, figsize=(4.6,4))\n",
    "\n",
    "ax[0,0].set_ylabel(r'$p^{21}_{ff}$')\n",
    "ax[0,0].set_xlabel(r'$p^{12}_{ff}$')\n",
    "ax[0,0].set_title(r'Mean act. time')\n",
    "\n",
    "\n",
    "ax[0,0].set_aspect('equal')\n",
    "heatmap = ax[0,0].pcolormesh(\n",
    "    params['range_pot_pairing0']*params['p_ff'],\n",
    "    params['range_pot_pairing1']*params['p_ff'],\n",
    "    ar_mean_act_time.T)\n",
    "\n",
    "ax[0,0].set_xticks(ax[0,0].get_yticks())\n",
    "fig.canvas.draw()\n",
    "labels = [item.get_text() for item in ax[0,0].get_xticklabels()]\n",
    "ax[0,0].set_xticklabels(labels, rotation=45)\n",
    "ax[0,0].set_xlim(ax[0,0].get_ylim())\n",
    "\n",
    "\n",
    "cb = fig.colorbar(heatmap, cax=ax[0,1])\n",
    "ax[0,1].set_ylabel('a.u.')\n",
    "fig.tight_layout()\n",
    "\n",
    "fig.savefig('figures/4d_mean_activation_time.svg')"
   ]
  },
  {
   "cell_type": "markdown",
   "metadata": {},
   "source": [
    "## Ratio of activated assemblies"
   ]
  },
  {
   "cell_type": "code",
   "execution_count": null,
   "metadata": {},
   "outputs": [],
   "source": [
    "n_i = len(params['range_pot_pairing0'])\n",
    "n_j = len(params['range_pot_pairing1'])\n",
    "\n",
    "ar_n_active = np.empty((n_i, n_j), dtype=float)\n",
    "dt = np.round(np.median(np.diff(params['t'])),4)\n",
    "seq = params['seqs'][1]\n",
    "\n",
    "for i in range(n_i):\n",
    "    for j in range(n_j):\n",
    "        r_ij = rE[i, j, :, seq].T\n",
    "        ar_n_active[i, j] = tools_wc.number_active(r_ij, params['r_min'])\n",
    "        \n",
    "ar_ratio_active = ar_n_active/len(seq)"
   ]
  },
  {
   "cell_type": "code",
   "execution_count": null,
   "metadata": {},
   "outputs": [],
   "source": [
    "fig, ax = plt.subplots(1, 2, squeeze=False, gridspec_kw={'width_ratios': [0.95, 0.05]}, figsize=(4.6,4))\n",
    "\n",
    "ax[0,0].set_ylabel(r'$p^{21}_{ff}$')\n",
    "ax[0,0].set_xlabel(r'$p^{12}_{ff}$')\n",
    "ax[0,0].set_title(r'Ratio act. assemblies')\n",
    "\n",
    "\n",
    "ax[0,0].set_aspect('equal')\n",
    "heatmap = ax[0,0].pcolormesh(\n",
    "    params['range_pot_pairing0']*params['p_ff'],\n",
    "    params['range_pot_pairing1']*params['p_ff'],\n",
    "    ar_ratio_active.T,\n",
    "    vmin=0)\n",
    "\n",
    "ax[0,0].set_xticks(ax[0,0].get_yticks())\n",
    "fig.canvas.draw()\n",
    "labels = [item.get_text() for item in ax[0,0].get_xticklabels()]\n",
    "ax[0,0].set_xticklabels(labels, rotation=45)\n",
    "ax[0,0].set_xlim(ax[0,0].get_ylim())\n",
    "\n",
    "\n",
    "cb = fig.colorbar(heatmap, cax=ax[0,1])\n",
    "\n",
    "fig.savefig('figures/4e_ratio_active.svg')"
   ]
  },
  {
   "cell_type": "code",
   "execution_count": null,
   "metadata": {},
   "outputs": [],
   "source": [
    "np.median(ar_ratio_active)"
   ]
  },
  {
   "cell_type": "markdown",
   "metadata": {},
   "source": [
    "## Activation time of first assembly"
   ]
  },
  {
   "cell_type": "code",
   "execution_count": null,
   "metadata": {},
   "outputs": [],
   "source": [
    "n_i = len(params['range_pot_pairing0'])\n",
    "n_j = len(params['range_pot_pairing1'])\n",
    "\n",
    "ar_act_time_first = np.empty((n_i, n_j), dtype=float)\n",
    "dt = np.round(np.median(np.diff(params['t'])),4)\n",
    "seq = params['seqs'][1]\n",
    "\n",
    "for i in range(n_i):\n",
    "    for j in range(n_j):\n",
    "        r_ij = rE[i, j, :, seq[0,]].T\n",
    "        ar_act_time_first[i, j] = tools_wc.mean_activation_time(r_ij, params['r_min'], dt)"
   ]
  },
  {
   "cell_type": "code",
   "execution_count": null,
   "metadata": {},
   "outputs": [],
   "source": [
    "fig, ax = plt.subplots(1, 2, squeeze=False, gridspec_kw={'width_ratios': [0.95, 0.05]}, figsize=(4.6,4))\n",
    "\n",
    "ax[0,0].set_ylabel(r'$p^{21}_{ff}$')\n",
    "ax[0,0].set_xlabel(r'$p^{12}_{ff}$')\n",
    "ax[0,0].set_title(r'Act. time first assembly ')\n",
    "\n",
    "\n",
    "ax[0,0].set_aspect('equal')\n",
    "heatmap = ax[0,0].pcolormesh(\n",
    "    params['range_pot_pairing0']*params['p_ff'],\n",
    "    params['range_pot_pairing1']*params['p_ff'],\n",
    "    ar_act_time_first.T)\n",
    "\n",
    "ax[0,0].set_xticks(ax[0,0].get_yticks())\n",
    "fig.canvas.draw()\n",
    "labels = [item.get_text() for item in ax[0,0].get_xticklabels()]\n",
    "ax[0,0].set_xticklabels(labels, rotation=45)\n",
    "ax[0,0].set_xlim(ax[0,0].get_ylim())\n",
    "\n",
    "\n",
    "cb = fig.colorbar(heatmap, cax=ax[0,1])\n",
    "ax[0,1].set_ylabel('a.u.')\n",
    "\n",
    "fig.savefig('figures/4f_activationtimefirstassembly.svg')"
   ]
  },
  {
   "cell_type": "code",
   "execution_count": null,
   "metadata": {},
   "outputs": [],
   "source": []
  }
 ],
 "metadata": {
  "kernelspec": {
   "display_name": "Python 3",
   "language": "python",
   "name": "python3"
  },
  "language_info": {
   "codemirror_mode": {
    "name": "ipython",
    "version": 3
   },
   "file_extension": ".py",
   "mimetype": "text/x-python",
   "name": "python",
   "nbconvert_exporter": "python",
   "pygments_lexer": "ipython3",
   "version": "3.7.8"
  }
 },
 "nbformat": 4,
 "nbformat_minor": 4
}
